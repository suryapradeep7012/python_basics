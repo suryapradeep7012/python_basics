{
  "nbformat": 4,
  "nbformat_minor": 0,
  "metadata": {
    "colab": {
      "provenance": [],
      "authorship_tag": "ABX9TyODfRJMCtqtWulIC6x/E3jY",
      "include_colab_link": true
    },
    "kernelspec": {
      "name": "python3",
      "display_name": "Python 3"
    },
    "language_info": {
      "name": "python"
    }
  },
  "cells": [
    {
      "cell_type": "markdown",
      "metadata": {
        "id": "view-in-github",
        "colab_type": "text"
      },
      "source": [
        "<a href=\"https://colab.research.google.com/github/suryapradeep7012/python_basics/blob/main/file_operation_handling.ipynb\" target=\"_parent\"><img src=\"https://colab.research.google.com/assets/colab-badge.svg\" alt=\"Open In Colab\"/></a>"
      ]
    },
    {
      "cell_type": "code",
      "execution_count": null,
      "metadata": {
        "id": "bBhUjUfyN8Gc"
      },
      "outputs": [],
      "source": [
        "data = open('/content/demo.txt','r')"
      ]
    },
    {
      "cell_type": "code",
      "source": [
        "data.read()"
      ],
      "metadata": {
        "colab": {
          "base_uri": "https://localhost:8080/",
          "height": 35
        },
        "id": "GrsVmwK3Oe8S",
        "outputId": "a206f96e-983b-4082-ddfd-45e807bf74b5"
      },
      "execution_count": null,
      "outputs": [
        {
          "output_type": "execute_result",
          "data": {
            "text/plain": [
              "''"
            ],
            "application/vnd.google.colaboratory.intrinsic+json": {
              "type": "string"
            }
          },
          "metadata": {},
          "execution_count": 22
        }
      ]
    },
    {
      "cell_type": "code",
      "source": [
        "for i in open('/content/demo.txt','r'):\n",
        "  print(i)"
      ],
      "metadata": {
        "colab": {
          "base_uri": "https://localhost:8080/"
        },
        "id": "VG2MDDKqOf9Q",
        "outputId": "b9737abd-22cd-429a-8587-270b449430f0"
      },
      "execution_count": null,
      "outputs": [
        {
          "output_type": "stream",
          "name": "stdout",
          "text": [
            "hi ipcshi suryahi surya\n"
          ]
        }
      ]
    },
    {
      "cell_type": "code",
      "source": [
        "df = open('/content/demo.txt','w')\n",
        "df.write(\"hi ipcs\")\n",
        "df.close()"
      ],
      "metadata": {
        "id": "idOYhFDZOpWw"
      },
      "execution_count": null,
      "outputs": []
    },
    {
      "cell_type": "code",
      "source": [
        "app = open('/content/demo.txt','a')\n",
        "app.write(\"hi surya\")\n",
        "app.close()"
      ],
      "metadata": {
        "id": "p2RZKSKNPXlB"
      },
      "execution_count": null,
      "outputs": []
    },
    {
      "cell_type": "markdown",
      "source": [
        "# iterator"
      ],
      "metadata": {
        "id": "4UBWjDmB-dYW"
      }
    },
    {
      "cell_type": "code",
      "source": [
        "a=[\"list\",\"tuple\",\"dict\",\"set\"]"
      ],
      "metadata": {
        "id": "UdDMz-fOPpUJ"
      },
      "execution_count": null,
      "outputs": []
    },
    {
      "cell_type": "code",
      "source": [
        "for i in a:\n",
        "  print(i)"
      ],
      "metadata": {
        "colab": {
          "base_uri": "https://localhost:8080/"
        },
        "id": "8P8T7kLC93ev",
        "outputId": "483a6e2a-0e51-4cfd-c655-4c4bf326a0cb"
      },
      "execution_count": null,
      "outputs": [
        {
          "output_type": "stream",
          "name": "stdout",
          "text": [
            "list\n",
            "tuple\n",
            "dict\n",
            "set\n"
          ]
        }
      ]
    },
    {
      "cell_type": "code",
      "source": [
        "myiter = iter(a)"
      ],
      "metadata": {
        "id": "cSWvtID5968E"
      },
      "execution_count": null,
      "outputs": []
    },
    {
      "cell_type": "code",
      "source": [
        "next(myiter)"
      ],
      "metadata": {
        "colab": {
          "base_uri": "https://localhost:8080/",
          "height": 35
        },
        "id": "yndq_Iav9_GM",
        "outputId": "bcf7d503-688b-445a-cdf5-fd59cba965fc"
      },
      "execution_count": null,
      "outputs": [
        {
          "output_type": "execute_result",
          "data": {
            "text/plain": [
              "'list'"
            ],
            "application/vnd.google.colaboratory.intrinsic+json": {
              "type": "string"
            }
          },
          "metadata": {},
          "execution_count": 4
        }
      ]
    },
    {
      "cell_type": "code",
      "source": [
        "next(myiter)"
      ],
      "metadata": {
        "colab": {
          "base_uri": "https://localhost:8080/",
          "height": 35
        },
        "id": "JO6ekhJH-CH0",
        "outputId": "cceb8a8b-d544-4ca5-875c-0e168e773a24"
      },
      "execution_count": null,
      "outputs": [
        {
          "output_type": "execute_result",
          "data": {
            "text/plain": [
              "'tuple'"
            ],
            "application/vnd.google.colaboratory.intrinsic+json": {
              "type": "string"
            }
          },
          "metadata": {},
          "execution_count": 6
        }
      ]
    },
    {
      "cell_type": "code",
      "source": [
        "next(myiter)"
      ],
      "metadata": {
        "colab": {
          "base_uri": "https://localhost:8080/",
          "height": 35
        },
        "id": "CbFgKj8_-EkM",
        "outputId": "3ac8bc64-3dd6-4745-9e79-cbb2062c0e9e"
      },
      "execution_count": null,
      "outputs": [
        {
          "output_type": "execute_result",
          "data": {
            "text/plain": [
              "'dict'"
            ],
            "application/vnd.google.colaboratory.intrinsic+json": {
              "type": "string"
            }
          },
          "metadata": {},
          "execution_count": 7
        }
      ]
    },
    {
      "cell_type": "code",
      "source": [
        "mytuple=[\"apple\",\"banana\",\"cherry\"]\n",
        "myit=iter(mytuple)\n",
        "print(next(myit))\n",
        "print(next(myit))\n",
        "print(next(myit))\n"
      ],
      "metadata": {
        "colab": {
          "base_uri": "https://localhost:8080/"
        },
        "id": "RdGtGZxv-Ifk",
        "outputId": "7f769b96-dcb3-45b8-aad4-ba0220979a8a"
      },
      "execution_count": null,
      "outputs": [
        {
          "output_type": "stream",
          "name": "stdout",
          "text": [
            "apple\n",
            "banana\n",
            "cherry\n"
          ]
        }
      ]
    },
    {
      "cell_type": "code",
      "source": [
        "mytuple=(\"apple\",\"banana\",\"cherry\")\n",
        "for x in mytuple:\n",
        "  print(x)"
      ],
      "metadata": {
        "colab": {
          "base_uri": "https://localhost:8080/"
        },
        "id": "LBjvjidW_EYu",
        "outputId": "00c77bde-de8e-4a4c-8a53-29f1da7a9b7c"
      },
      "execution_count": null,
      "outputs": [
        {
          "output_type": "stream",
          "name": "stdout",
          "text": [
            "apple\n",
            "banana\n",
            "cherry\n"
          ]
        }
      ]
    },
    {
      "cell_type": "code",
      "source": [
        "class mynumbers:\n",
        "  def __iter__(self):\n",
        "    self.a=1\n",
        "    return self\n",
        "  def __next__(self):\n",
        "    x=self.a\n",
        "    self.a +=1\n",
        "    return(x)\n",
        "myclass=mynumbers()\n",
        "myiter=iter(myclass)\n",
        "print(next(myiter))\n",
        "print(next(myiter))\n",
        "print(next(myiter))\n",
        "print(next(myiter))\n",
        "print(next(myiter))\n",
        "\n"
      ],
      "metadata": {
        "colab": {
          "base_uri": "https://localhost:8080/"
        },
        "id": "JXztpPza_5Hl",
        "outputId": "23b44a63-08d4-42f9-953c-577a49ca6da3"
      },
      "execution_count": null,
      "outputs": [
        {
          "output_type": "stream",
          "name": "stdout",
          "text": [
            "1\n",
            "2\n",
            "3\n",
            "4\n",
            "5\n"
          ]
        }
      ]
    },
    {
      "cell_type": "markdown",
      "source": [
        "# generator"
      ],
      "metadata": {
        "id": "RhCfknJKBpK-"
      }
    },
    {
      "cell_type": "code",
      "source": [
        "def greeting():\n",
        "  print('hi!')\n",
        "  yield 1\n",
        "  print('how are you?')\n",
        "  yield 2\n",
        "  print('are you there?')\n",
        "  yield 3\n",
        "messenger=greeting()\n",
        "result=next(messenger)\n",
        "print(next(messenger))\n",
        "print(next(messenger))"
      ],
      "metadata": {
        "colab": {
          "base_uri": "https://localhost:8080/"
        },
        "id": "3x9mZUtkAx6O",
        "outputId": "8eb6cd8c-5d16-47c5-9eb8-034ed5827bbb"
      },
      "execution_count": null,
      "outputs": [
        {
          "output_type": "stream",
          "name": "stdout",
          "text": [
            "hi!\n",
            "how are you?\n",
            "2\n",
            "are you there?\n",
            "3\n"
          ]
        }
      ]
    },
    {
      "cell_type": "markdown",
      "source": [
        "# Exception Handiling"
      ],
      "metadata": {
        "id": "UCU5D9jJ55eP"
      }
    },
    {
      "cell_type": "markdown",
      "source": [
        "### Exception handling is a programming concept used to manage error or unexpected conditions that occure during the exicution of a programme .it alles the programe to continue running of failgracefully instead of crashing .\n",
        "\n",
        "# Use Exception Handling?\n",
        " - To prevent the entire program from crashing due to runtime errors.\n",
        "\n",
        " - To provide informative error messages.\n",
        "\n",
        " - To allow recovery or alternative execution paths.\n",
        "#common terms\n",
        "\n",
        " - Exception: An error that occurs during program execution.\n",
        "\n",
        " - Try block: Code that might throw an exception.\n",
        "\n",
        " - Except block: Code that runs if an exception occurs.\n",
        "\n",
        " - Finally block: Code that always runs, whether an exception occurred or not.\n",
        "\n",
        " - Raise: Manually trigger an exception.\n",
        "\n",
        "\n",
        "\n",
        "\n",
        "\n"
      ],
      "metadata": {
        "id": "qsQ4xpd9BHTu"
      }
    },
    {
      "cell_type": "code",
      "source": [
        "try :\n",
        "  num=int(input(\"enter a number:\"))\n",
        "  result = 10/num\n",
        "except ZeroDivisionError:\n",
        "  print(\"error:canote divided by zero.\")\n",
        "except ValueError:\n",
        "  print(\"Error: Invalid input. Please enter a number.\")\n",
        "else:\n",
        "    print(\"Result is\", result)\n",
        "finally:\n",
        "    print(\"Execution complete.\")"
      ],
      "metadata": {
        "id": "2QDeTIxdCQI-",
        "colab": {
          "base_uri": "https://localhost:8080/"
        },
        "outputId": "e5ce93eb-9346-4711-d6fa-bfc3727882a4"
      },
      "execution_count": null,
      "outputs": [
        {
          "output_type": "stream",
          "name": "stdout",
          "text": [
            "enter a number:0\n",
            "error:canote divided by zero.\n",
            "Execution complete.\n"
          ]
        }
      ]
    },
    {
      "cell_type": "code",
      "source": [],
      "metadata": {
        "id": "avBB7srEFgyf"
      },
      "execution_count": null,
      "outputs": []
    }
  ]
}