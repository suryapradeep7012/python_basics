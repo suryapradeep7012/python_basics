{
  "nbformat": 4,
  "nbformat_minor": 0,
  "metadata": {
    "colab": {
      "provenance": [],
      "collapsed_sections": [
        "WMLRxRLncgKN",
        "moAUHn-A_n_D",
        "jYuTSFfALbzh"
      ],
      "toc_visible": true,
      "include_colab_link": true
    },
    "kernelspec": {
      "name": "python3",
      "display_name": "Python 3"
    },
    "language_info": {
      "name": "python"
    }
  },
  "cells": [
    {
      "cell_type": "markdown",
      "metadata": {
        "id": "view-in-github",
        "colab_type": "text"
      },
      "source": [
        "<a href=\"https://colab.research.google.com/github/suryapradeep7012/python_basics/blob/main/Oops_class.ipynb\" target=\"_parent\"><img src=\"https://colab.research.google.com/assets/colab-badge.svg\" alt=\"Open In Colab\"/></a>"
      ]
    },
    {
      "cell_type": "markdown",
      "source": [
        "# Self study"
      ],
      "metadata": {
        "id": "WMLRxRLncgKN"
      }
    },
    {
      "cell_type": "markdown",
      "source": [
        "## class and objects"
      ],
      "metadata": {
        "id": "0_lNgxSdwUF4"
      }
    },
    {
      "cell_type": "code",
      "source": [
        "class Phone:              # making phone class\n",
        "\n",
        "  def make_call(self):      # fuction making  always use slef as parameter\n",
        "    print(\"let's make a phone call\")\n",
        "\n",
        "  def play_game(self): # method\n",
        "      print(\"Lets's play a game\")"
      ],
      "metadata": {
        "id": "UK5LRU0vwS6Q"
      },
      "execution_count": null,
      "outputs": []
    },
    {
      "cell_type": "code",
      "source": [
        "p1=Phone() # making object"
      ],
      "metadata": {
        "id": "qomf2_T0wrJI"
      },
      "execution_count": null,
      "outputs": []
    },
    {
      "cell_type": "code",
      "source": [
        "p1.make_call()"
      ],
      "metadata": {
        "colab": {
          "base_uri": "https://localhost:8080/"
        },
        "id": "9jM_ioNUxFVH",
        "outputId": "22008fbe-0fb8-48a9-d8a3-65bc8d996718"
      },
      "execution_count": null,
      "outputs": [
        {
          "output_type": "stream",
          "name": "stdout",
          "text": [
            "let's make a phone call\n"
          ]
        }
      ]
    },
    {
      "cell_type": "code",
      "source": [
        "p1.play_game()"
      ],
      "metadata": {
        "colab": {
          "base_uri": "https://localhost:8080/"
        },
        "id": "Bo6j70gfxIiA",
        "outputId": "84b63cbf-818e-402b-86f3-80dd320970cb"
      },
      "execution_count": null,
      "outputs": [
        {
          "output_type": "stream",
          "name": "stdout",
          "text": [
            "Lets's play a game\n"
          ]
        }
      ]
    },
    {
      "cell_type": "markdown",
      "source": [
        "## Adding paramete to the class"
      ],
      "metadata": {
        "id": "g9vTmqV-xND_"
      }
    },
    {
      "cell_type": "code",
      "source": [
        "class Phone:              # making phone class\n",
        "\n",
        "  def make_call(self):    # fuction making  always use slef as parameter\n",
        "    print(\"let's make a phone call\")\n",
        "\n",
        "  def play_game(self):\n",
        "      print(\"Lets's play a game\")\n",
        "\n",
        "\n",
        "  def set_color(self,color):  #adding new paramters and  creating new function\n",
        "    self.color = color\n",
        "\n",
        "  def set_cost(self,cost):\n",
        "    self.cost = cost\n",
        "\n",
        "  def show_color(self):\n",
        "    return self.color\n",
        "\n",
        "  def show_cost(self):\n",
        "    return self.cost\n",
        "\n",
        "\n"
      ],
      "metadata": {
        "id": "xh_5npKzxMIn"
      },
      "execution_count": null,
      "outputs": []
    },
    {
      "cell_type": "code",
      "source": [
        "p2=Phone() # making another object"
      ],
      "metadata": {
        "id": "_-PNnUD1yIO2"
      },
      "execution_count": null,
      "outputs": []
    },
    {
      "cell_type": "code",
      "source": [
        "p2.set_color('blue')"
      ],
      "metadata": {
        "id": "yRUKPQaTyYy2"
      },
      "execution_count": null,
      "outputs": []
    },
    {
      "cell_type": "code",
      "source": [
        "p2.set_cost(5000)"
      ],
      "metadata": {
        "id": "B4-46Zb-yecm"
      },
      "execution_count": null,
      "outputs": []
    },
    {
      "cell_type": "code",
      "source": [
        "p2.show_color()"
      ],
      "metadata": {
        "colab": {
          "base_uri": "https://localhost:8080/",
          "height": 36
        },
        "id": "hR6nmEViykSe",
        "outputId": "239f7ed1-ef24-47d1-b71c-1075d6332709"
      },
      "execution_count": null,
      "outputs": [
        {
          "output_type": "execute_result",
          "data": {
            "text/plain": [
              "'blue'"
            ],
            "application/vnd.google.colaboratory.intrinsic+json": {
              "type": "string"
            }
          },
          "metadata": {},
          "execution_count": 16
        }
      ]
    },
    {
      "cell_type": "code",
      "source": [
        "p2.show_cost()"
      ],
      "metadata": {
        "colab": {
          "base_uri": "https://localhost:8080/"
        },
        "id": "jrMUBoKNypt2",
        "outputId": "e2bd2fee-3cb1-43cf-887f-b62e06ae8929"
      },
      "execution_count": null,
      "outputs": [
        {
          "output_type": "execute_result",
          "data": {
            "text/plain": [
              "5000"
            ]
          },
          "metadata": {},
          "execution_count": 17
        }
      ]
    },
    {
      "cell_type": "markdown",
      "source": [
        "## Creating a class with costructor"
      ],
      "metadata": {
        "id": "XnZFPtOVy4J3"
      }
    },
    {
      "cell_type": "code",
      "source": [
        "class Employee:\n",
        "\n",
        "  def __init__(self, name, age, salary, gender):  #init method is constructor\n",
        "\n",
        "    self.name = name\n",
        "    self.age = age\n",
        "    self.salary = salary\n",
        "    self.gender = gender\n",
        "\n",
        "\n",
        "\n",
        "\n",
        "\n",
        "  def employee_details(self):\n",
        "    print(\"Name of employee is \",self.name)\n",
        "    print(\"Age of employee is \",self.age)\n",
        "    print(\"Salary of employee is \",self.salary)\n",
        "    print(\"Gender of employee is \",self.gender)\n",
        "\n",
        "\n"
      ],
      "metadata": {
        "id": "2aTYFx3SzAz-"
      },
      "execution_count": null,
      "outputs": []
    },
    {
      "cell_type": "code",
      "source": [
        "e1=Employee(\"Sam\",32, 85000, \"Male\")"
      ],
      "metadata": {
        "id": "smozVEel0Wue"
      },
      "execution_count": null,
      "outputs": []
    },
    {
      "cell_type": "code",
      "source": [
        "e1.employee_details()"
      ],
      "metadata": {
        "colab": {
          "base_uri": "https://localhost:8080/"
        },
        "id": "NhCbtIO40naN",
        "outputId": "49fcc6c7-afed-4eab-c90b-6ec9585004dd"
      },
      "execution_count": null,
      "outputs": [
        {
          "output_type": "stream",
          "name": "stdout",
          "text": [
            "Name of employee is  Sam\n",
            "Age of employee is  32\n",
            "Salary of employee is  85000\n",
            "Gender of employee is  Male\n"
          ]
        }
      ]
    },
    {
      "cell_type": "markdown",
      "source": [],
      "metadata": {
        "id": "XaBI7MVh_mTG"
      }
    },
    {
      "cell_type": "markdown",
      "source": [
        "## Inheritance in python"
      ],
      "metadata": {
        "id": "moAUHn-A_n_D"
      }
    },
    {
      "cell_type": "code",
      "source": [
        "class Vehicle:\n",
        "  def __init__(self, mileage, cost):\n",
        "    self.mileage = mileage\n",
        "    self.cost = cost\n",
        "\n",
        "  def show_details(self):\n",
        "    print(\"I am a vehicle\")\n",
        "    print(\"The mileage is \",self.mileage)\n",
        "    print(\"The cost is \",self.cost)"
      ],
      "metadata": {
        "id": "e4u0acVq0q7F"
      },
      "execution_count": null,
      "outputs": []
    },
    {
      "cell_type": "code",
      "source": [
        "v1=Vehicle(23, 9000000)\n"
      ],
      "metadata": {
        "id": "jLq2uWn4A-w0"
      },
      "execution_count": null,
      "outputs": []
    },
    {
      "cell_type": "code",
      "source": [
        "v1.show_details()"
      ],
      "metadata": {
        "id": "PUL3JcpwBLnD",
        "outputId": "264b50cf-3e1b-4ca8-d295-5eecbb508b56",
        "colab": {
          "base_uri": "https://localhost:8080/"
        }
      },
      "execution_count": null,
      "outputs": [
        {
          "output_type": "stream",
          "name": "stdout",
          "text": [
            "I am a vehicle\n",
            "The mileage is  23\n",
            "The cost is  9000000\n"
          ]
        }
      ]
    },
    {
      "cell_type": "code",
      "source": [],
      "metadata": {
        "id": "bEV_JZ_VBOyL"
      },
      "execution_count": null,
      "outputs": []
    },
    {
      "cell_type": "code",
      "source": [
        "a=[1,2,3]\n",
        "b=[]\n",
        "for i in range(len(a)):\n",
        "  b.append(a.pop())\n",
        "print(b)"
      ],
      "metadata": {
        "colab": {
          "base_uri": "https://localhost:8080/"
        },
        "id": "aGzueO_g_q6s",
        "outputId": "0f88177f-4a7e-48b8-a825-cc234df24565"
      },
      "execution_count": null,
      "outputs": [
        {
          "output_type": "stream",
          "name": "stdout",
          "text": [
            "[3, 2, 1]\n"
          ]
        }
      ]
    },
    {
      "cell_type": "markdown",
      "source": [
        "# Class"
      ],
      "metadata": {
        "id": "X1jLkfQTcoD8"
      }
    },
    {
      "cell_type": "markdown",
      "source": [
        "- **Class:**\n",
        " - A class is a user-definded blueprint or prototype in object-oriented programming\n",
        " - It defines the structure (attributes) and begavior (methods) of objects.\n",
        " - It serves as a template for creating multiple instances with shared behavior\n",
        "\n"
      ],
      "metadata": {
        "id": "E0VqiH8VhwdQ"
      }
    },
    {
      "cell_type": "markdown",
      "source": [
        "- **Object:**\n",
        "  - An object is a specific instance of a class .\n",
        "  - It contains real values for the attributes defined by the class .\n",
        "  - It  represents a tangible entity with both state (attributes)\n",
        "  and behavior (method)"
      ],
      "metadata": {
        "id": "KnfS28ZRiRsP"
      }
    },
    {
      "cell_type": "code",
      "source": [
        "class character:\n",
        "\n",
        "  def __init__(self,health,damage,power):\n",
        "    self.health = health\n",
        "    self.damage = damage\n",
        "    self.power = power\n",
        "\n",
        "ninja = character(100,30,90)\n",
        "warrior = character(200,40,95)\n",
        "print(\"Power of ninja: \",ninja.power)\n",
        "print(\"Power of ninja: \",ninja.health)\n",
        "\n",
        "\n"
      ],
      "metadata": {
        "colab": {
          "base_uri": "https://localhost:8080/"
        },
        "id": "TTZIUPPYcnis",
        "outputId": "828b8ba2-7800-4ba9-80d6-7f307f97452d"
      },
      "execution_count": null,
      "outputs": [
        {
          "output_type": "stream",
          "name": "stdout",
          "text": [
            "Power of ninja:  90\n",
            "Power of ninja:  100\n"
          ]
        }
      ]
    },
    {
      "cell_type": "code",
      "source": [
        "class character:\n",
        "\n",
        "  def __init__(self,health,damage,power):\n",
        "    self.health = health\n",
        "    self.damage = damage\n",
        "    self.power = power\n",
        "\n",
        "  def double(self):\n",
        "    self.power=self.power*2\n",
        "    self.damage=self.damage*3\n",
        "ninja = character(100,30,90)\n",
        "warrior = character(200,40,95)\n",
        "print(\"Power of ninja: \",ninja.power)\n",
        "print(\"Power of ninja: \",ninja.health)\n",
        "ninja.double()\n",
        "print(\"After doubling the power\")\n",
        "print(\"power of ninja: \",ninja.power)\n",
        "print(\"damage of ninja:\",ninja.damage)"
      ],
      "metadata": {
        "colab": {
          "base_uri": "https://localhost:8080/"
        },
        "id": "UtKbzelZdxBk",
        "outputId": "9058588c-1bdb-4b0d-c7bd-aa422bce65da"
      },
      "execution_count": null,
      "outputs": [
        {
          "output_type": "stream",
          "name": "stdout",
          "text": [
            "Power of ninja:  90\n",
            "Power of ninja:  100\n",
            "After doubling the power\n",
            "power of ninja:  180\n",
            "damage of ninja: 90\n"
          ]
        }
      ]
    },
    {
      "cell_type": "code",
      "source": [
        "class character:\n",
        "\n",
        "  def __init__(self,name,health,damage,power):\n",
        "    self.name=name\n",
        "    self.health = health\n",
        "    self.damage = damage\n",
        "    self.power = power\n",
        "\n",
        "  def hai(self):\n",
        "    print(\"Hello I am \",self.name)\n",
        "\n",
        "  def is_alive(self):\n",
        "    if self.health <=0:\n",
        "      print(self.name,\"is Dead!\")\n",
        "    else:\n",
        "      print(self.name,\"is alive!\")\n",
        "\n",
        "\n",
        "  def player_details(self):\n",
        "    print(\".....\"*5)\n",
        "    print(\"Name of player is :\",self.name)\n",
        "    print(\"Health of player is :\",self.health)\n",
        "    print(\"damage of player is :\",self.damage)\n",
        "    print(\"power of player is :\",self.power)\n",
        "    print()\n",
        "\n",
        "\n",
        "\n",
        "ninja = character(\"Ninja\",100,30,90)\n",
        "warrior = character(\"Warrior\",200,40,95)\n",
        "\n",
        "\n",
        "ninja.hai()\n",
        "ninja.health=0\n",
        "print(\"Health of ninja:\",ninja.health)\n",
        "ninja.is_alive()\n",
        "warrior.is_alive()\n",
        "\n",
        "warrior.player_details()\n",
        "ninja.player_details()"
      ],
      "metadata": {
        "colab": {
          "base_uri": "https://localhost:8080/"
        },
        "id": "DrYjgEqeoVB3",
        "outputId": "2a770f24-432a-456c-d9c1-a06d2a2e2d4e"
      },
      "execution_count": null,
      "outputs": [
        {
          "output_type": "stream",
          "name": "stdout",
          "text": [
            "Hello I am  Ninja\n",
            "Health of ninja: 0\n",
            "Ninja is Dead!\n",
            "Warrior is alive!\n",
            ".........................\n",
            "Name of player is : Warrior\n",
            "Health of player is : 200\n",
            "damage of player is : 40\n",
            "power of player is : 95\n",
            "\n",
            ".........................\n",
            "Name of player is : Ninja\n",
            "Health of player is : 0\n",
            "damage of player is : 30\n",
            "power of player is : 90\n",
            "\n"
          ]
        }
      ]
    },
    {
      "cell_type": "markdown",
      "source": [
        "## **-Methods :**\n",
        " - In python's object - oriented programming (oop) **methods** are functions, defined inside a class that operate on it;s attributes and object\n",
        "  - Require the self parameter to accessor modify object data"
      ],
      "metadata": {
        "id": "JXwv7OPT8q8F"
      }
    },
    {
      "cell_type": "markdown",
      "source": [
        "## - **Constructor:**\n",
        " - In python the consstructor is a special method used to intialize newly created objects. the keyword used for the constructor is __init__\n",
        "\n",
        "- purpose of the constructor( _ _init_ _  ):\n",
        "  - Initialize object attributes:  Sets the initial state pf an object by assigning vlaues of it's attributes\n",
        "  - Automatically invoked: It is called automatically when a new object of the class is created\n",
        "\n",
        "         def __init__ (self, parameters):\n",
        "            # Initialization code"
      ],
      "metadata": {
        "id": "eK0JPZVVkX8f"
      }
    },
    {
      "cell_type": "markdown",
      "source": [
        "## - **Self Paramter :**\n",
        " - The self paramete is used in instance methods to refer to the specific object that is calling the method, It allowed acces to the instances attributes and other method\n",
        "\n",
        "- Key Points about self:\n",
        "  - 1) refer to the current insance: self represent the instances of the class. It used to access varriables and methods that belong to the object\n",
        "  - 2) Passed automatically :  when calling a method on aan object, python automatically passes the object as the first argurment ( self )\n",
        "  - 3) Not a keyword : Self is a convention , not a reserved keyword, you can use other names, but using self is best practice"
      ],
      "metadata": {
        "id": "vxWdG-i1wh0e"
      }
    },
    {
      "cell_type": "markdown",
      "source": [
        "## Class attributes\n",
        " - In python;s object-oriented programming (oop) , attributes are variables associated with a class and its objects\n",
        "\n",
        " - 1) Instance attributes:\n",
        "  - Belong to specific instances ( objects ) of a class\n",
        "  - Definedusing self inside methods ( typically in the constructor )\n",
        "   - Each object has it's own copy of these attributes\n",
        "   "
      ],
      "metadata": {
        "id": "VIsySmzWnxNY"
      }
    },
    {
      "cell_type": "code",
      "source": [
        "class student:\n",
        "\n",
        "  school = \"abc school\"\n",
        "\n",
        "  def __init__(self,name,age,roll_number):\n",
        "    self.name = name #instance attributes\n",
        "    self.age = age\n",
        "    self.roll_number = roll_number\n",
        "\n",
        "  def details(self): # method!\n",
        "    print(f\"{self.name} is : {self.age} year old and studying at :{self.school} and roll number is : {self.roll_number}\")\n",
        "\n",
        "student1= student(\"Anshif\",21,3)\n",
        "student2= student(\"Sinan\",20,7)\n",
        "print(student1.school)\n",
        "\n",
        "student.school=\"Learn Logic AI\" # updating class attributes\n",
        "\n",
        "student1.details()\n"
      ],
      "metadata": {
        "id": "_F_wUdJDorUf",
        "colab": {
          "base_uri": "https://localhost:8080/"
        },
        "outputId": "55a9a827-e345-4f2f-d8f2-14492ae66ffd"
      },
      "execution_count": null,
      "outputs": [
        {
          "output_type": "stream",
          "name": "stdout",
          "text": [
            "abc school\n",
            "Anshif is : 21 year old and studying at :Learn Logic AI and roll number is : 3\n"
          ]
        }
      ]
    },
    {
      "cell_type": "markdown",
      "source": [
        "##  **del operater:**\n",
        " - we can delte the properites of the object or object itself by using the del keyword. Consider the following example"
      ],
      "metadata": {
        "id": "zp7Zeov-wCzO"
      }
    },
    {
      "cell_type": "code",
      "source": [
        "class student:\n",
        "\n",
        "  school = \"abc school\"\n",
        "\n",
        "  def __init__(self,name,age,roll_number):\n",
        "    self.name = name #instance attributes\n",
        "    self.age = age\n",
        "    self.roll_number = roll_number\n",
        "\n",
        "  def details(self): # method!\n",
        "    print(f\"{self.name} is : {self.age} year old and studying at :{self.school} and roll number is : {self.roll_number}\")\n",
        "\n",
        "student1= student(\"Anshif\",21,3)\n",
        "student2= student(\"Sinan\",20,7)\n",
        "print(student1.school)\n",
        "del student1.name\n",
        "print(student1.name) # it will show error\n"
      ],
      "metadata": {
        "colab": {
          "base_uri": "https://localhost:8080/",
          "height": 238
        },
        "id": "s2TxTm07n78o",
        "outputId": "f21972d2-c9c0-42c1-cac5-13741daef47c"
      },
      "execution_count": null,
      "outputs": [
        {
          "output_type": "stream",
          "name": "stdout",
          "text": [
            "abc school\n"
          ]
        },
        {
          "output_type": "error",
          "ename": "AttributeError",
          "evalue": "'student' object has no attribute 'name'",
          "traceback": [
            "\u001b[0;31m---------------------------------------------------------------------------\u001b[0m",
            "\u001b[0;31mAttributeError\u001b[0m                            Traceback (most recent call last)",
            "\u001b[0;32m<ipython-input-14-fc14e1eaa82c>\u001b[0m in \u001b[0;36m<cell line: 0>\u001b[0;34m()\u001b[0m\n\u001b[1;32m     15\u001b[0m \u001b[0mprint\u001b[0m\u001b[0;34m(\u001b[0m\u001b[0mstudent1\u001b[0m\u001b[0;34m.\u001b[0m\u001b[0mschool\u001b[0m\u001b[0;34m)\u001b[0m\u001b[0;34m\u001b[0m\u001b[0;34m\u001b[0m\u001b[0m\n\u001b[1;32m     16\u001b[0m \u001b[0;32mdel\u001b[0m \u001b[0mstudent1\u001b[0m\u001b[0;34m.\u001b[0m\u001b[0mname\u001b[0m\u001b[0;34m\u001b[0m\u001b[0;34m\u001b[0m\u001b[0m\n\u001b[0;32m---> 17\u001b[0;31m \u001b[0mprint\u001b[0m\u001b[0;34m(\u001b[0m\u001b[0mstudent1\u001b[0m\u001b[0;34m.\u001b[0m\u001b[0mname\u001b[0m\u001b[0;34m)\u001b[0m\u001b[0;34m\u001b[0m\u001b[0;34m\u001b[0m\u001b[0m\n\u001b[0m\u001b[1;32m     18\u001b[0m \u001b[0;34m\u001b[0m\u001b[0m\n\u001b[1;32m     19\u001b[0m \u001b[0mstudent\u001b[0m\u001b[0;34m.\u001b[0m\u001b[0mschool\u001b[0m\u001b[0;34m=\u001b[0m\u001b[0;34m\"Learn Logic AI\"\u001b[0m \u001b[0;31m# updating class attributes\u001b[0m\u001b[0;34m\u001b[0m\u001b[0;34m\u001b[0m\u001b[0m\n",
            "\u001b[0;31mAttributeError\u001b[0m: 'student' object has no attribute 'name'"
          ]
        }
      ]
    },
    {
      "cell_type": "markdown",
      "source": [
        "## Python bulit - in Class function\n",
        "\n",
        "- getattr ( obj, name, default ) :\n",
        " - It is used to access the attribute of the object\n",
        "- setattr ( obj, name, value ) :\n",
        " - It is used to set a particular value to the specific attribute of an object\n",
        "- delattr ( obj, name ) :\n",
        " - it is uded to delter a specific attribute.\n",
        "- hasattr ( obj, name ) :\n",
        "  - It returns tru if the object contains some specific attribute."
      ],
      "metadata": {
        "id": "qPCa1wp_xp2-"
      }
    },
    {
      "cell_type": "code",
      "source": [
        "class student:\n",
        "\n",
        "  school = \"abc school\"\n",
        "\n",
        "  def __init__(self,name,age,roll_number):\n",
        "    self.name = name #instance attributes\n",
        "    self.age = age\n",
        "    self.roll_number = roll_number\n",
        "\n",
        "  def details(self): # method!\n",
        "    print(f\"{self.name} is : {self.age} year old and studying at :{self.school} and roll number is : {self.roll_number}\")\n",
        "\n",
        "student1= student(\"Anshif\",21,3)\n",
        "student2= student(\"Sinan\",20,7)\n",
        "print(getattr(student1,\"name\")) # or print(student1.name)\n",
        "\n",
        "setattr(student1,\"age\",23) # or student1.age = 23\n",
        "print(student1.age)\n",
        "\n",
        "print(hasattr(student1,\"id\")) # id attribute cheking\n",
        "\n",
        "delattr(student1,\"age\") # for delete attribute\n"
      ],
      "metadata": {
        "colab": {
          "base_uri": "https://localhost:8080/"
        },
        "id": "m-pRHsO4vVun",
        "outputId": "7918ef0c-9662-4863-fb33-df049d9db89d"
      },
      "execution_count": null,
      "outputs": [
        {
          "output_type": "stream",
          "name": "stdout",
          "text": [
            "Anshif\n",
            "23\n",
            "False\n"
          ]
        }
      ]
    },
    {
      "cell_type": "code",
      "source": [
        "class dog:\n",
        "  def __init__(self,name,age):\n",
        "    self.name = name\n",
        "    self.age = age\n",
        "\n",
        "  def bark(self):\n",
        "    print(f\"{self.name} says: Bow! Bow!\")\n",
        "\n",
        "  def intriduce(self):\n",
        "    print(f\"My name is {self.name} and I am {self.age} years old.\")\n",
        "\n",
        "  def sit(self):\n",
        "    print(f\"{self.name} is now sitting.\")\n",
        "\n",
        "  def fetch(self, item):\n",
        "    print(f\"{self.name} is fetching the {item}!\")\n",
        "\n",
        "\n",
        "dog1=dog(\"Mubashir\",21)\n",
        "dog2=dog(\"Jaseem\",19)\n",
        "dog1.bark()\n",
        "dog2.bark()\n",
        "dog1.sit()\n",
        "dog1.fetch(\"Alpham mandhi\")\n",
        "dog2.fetch(\"stick\")"
      ],
      "metadata": {
        "colab": {
          "base_uri": "https://localhost:8080/"
        },
        "id": "rHLrNyYt6snV",
        "outputId": "3b0e3cf2-a7a1-4a2a-c260-a97a01a5779e"
      },
      "execution_count": null,
      "outputs": [
        {
          "output_type": "stream",
          "name": "stdout",
          "text": [
            "Mubashir says: Bow! Bow!\n",
            "Jaseem says: Bow! Bow!\n",
            "Mubashir is now sitting.\n",
            "Mubashir is fetching the Alpham mandhi!\n",
            "Jaseem is fetching the stick!\n"
          ]
        }
      ]
    },
    {
      "cell_type": "markdown",
      "source": [
        "Create a class called Cat that models a cat with the following features:\n",
        "\n",
        "1. The Cat class should have two attributes: name (the name of the cat) and color (the color of the cat).\n",
        "These attributes should be initialized using the constructor __init__.\n",
        "\n",
        "2. Add the following methods to the Cat class:\n",
        "\n",
        "meow(): This method should print a message indicating that the cat is meowing. The message should include the cat's name.\n",
        "purr(): This method should print a message indicating that the cat is purring. The message should include the cat's name.\n",
        "scratch(item): This method should simulate the cat scratching an object. The item parameter should be passed to the method, and the message should include the cat's name and the object it is scratching.\n",
        "sleep(): This method should print a message indicating that the cat is sleeping, and it should include the cat's name.\n",
        "\n",
        "3. Create two instances of the Cat class with different names and colors.\n",
        "\n",
        "4. Call each of the methods (meow(), purr(), scratch(), and sleep()) for both instances of the Cat class, passing appropriate arguments where required.\n",
        "\n"
      ],
      "metadata": {
        "id": "Cs4gMeCt7Y6s"
      }
    },
    {
      "cell_type": "code",
      "source": [
        "class cat:\n",
        "  def __init__(self,name,color):\n",
        "    self.name = name\n",
        "    self.color = color\n",
        "\n",
        "  def details(self):\n",
        "    print(f\"The {self.name} is {self.color}!\")\n",
        "  def meow(self):\n",
        "    print(f\"{self.name} is meowing...\")\n",
        "\n",
        "  def purr(self):\n",
        "    print(f\"{self.name} is purring...\")\n",
        "\n",
        "  def scratch(self,item):\n",
        "    print(f\"{self.name} is scratching on {item}...\")\n",
        "\n",
        "  def sleep(self):\n",
        "    print(f\"{self.name} is sleeping...\")\n",
        "\n",
        "cat1=cat(\"Kitty\",\"White\")\n",
        "cat2=cat(\"Pachu\",\"Black\")\n",
        "\n",
        "cat1.details()\n",
        "cat2.details()\n",
        "print()\n",
        "cat1.meow()\n",
        "cat2.meow()\n",
        "print()\n",
        "cat1.purr()\n",
        "cat2.purr()\n",
        "print()\n",
        "cat1.scratch(\"Sofa\")\n",
        "cat2.scratch(\"Bed\")\n",
        "print()\n",
        "cat1.sleep()\n",
        "cat2.sleep()"
      ],
      "metadata": {
        "colab": {
          "base_uri": "https://localhost:8080/"
        },
        "id": "GOa4mtc1-ef1",
        "outputId": "aad77828-f113-45e2-f9b0-939137f3dfcc"
      },
      "execution_count": null,
      "outputs": [
        {
          "output_type": "stream",
          "name": "stdout",
          "text": [
            "The Kitty is White!\n",
            "The Pachu is Black!\n",
            "\n",
            "Kitty is meowing...\n",
            "Pachu is meowing...\n",
            "\n",
            "Kitty is purring...\n",
            "Pachu is purring...\n",
            "\n",
            "Kitty is scratching on Sofa...\n",
            "Pachu is scratching on Bed...\n",
            "\n",
            "Kitty is sleeping...\n",
            "Pachu is sleeping...\n"
          ]
        }
      ]
    },
    {
      "cell_type": "markdown",
      "source": [
        "# **Inheritance in O**OP\n",
        "\n",
        "  Inheritance is a fundemental concept of object-oriented programming(oop) that allows a class (child or derived class) to acquire the attributes and methods of another class (parent or base class), it facilitates code reusability, modularity, and the creation hierarchical relationships b/w classes. Promoting efficient code management and reducing redundancy.\n",
        "\n",
        "\n",
        "\n",
        "**Types of inheritance**\n",
        "\n",
        "- 1) Single inheritance:\n",
        " - A derived class inherits form a single parent class, gaining access to its properites and methods\n",
        "\n",
        "- 2) Multilevel inhertance:\n",
        " - A class inherits from another derived class, froming a chain of inheritance.\n",
        "\n",
        "- 3) Hierarchial inheritance:\n",
        " - Multiple derived classes inherit from a single parent class, allowing shared behavior across diggerent subcalsses\n",
        "\n",
        "- 4) Multiple Inheritance:\n",
        " - A single derived clas inhertis from multiple parent classes, combining functionalities from different sources."
      ],
      "metadata": {
        "id": "IhoW0aTyBEAh"
      }
    },
    {
      "cell_type": "markdown",
      "source": [
        "## 1) Single inheritance\n",
        " - A derived class inherits form a single parent class, gaining access to its properites and methods\n"
      ],
      "metadata": {
        "id": "AQJ1getxLTmi"
      }
    },
    {
      "cell_type": "code",
      "source": [
        "class Animal: # parent classs\n",
        "  def speak(self):\n",
        "    print(\"Animal speaking\")\n",
        "\n",
        "class Dog(Animal):  # Child class (inheritance)\n",
        "  def bark(self):\n",
        "    print(\"Dog barking\")\n",
        "\n",
        "d=Dog()\n",
        "d.bark()\n",
        "d.speak() # we can call class method thruogh child class(inheritance)\n",
        "\n",
        "a=Animal()\n",
        "a.speak()\n",
        "# a.bark()  AttributeError: 'Animal' object has no attribute 'bark' (because the orginal class have no connection with the child behaviour/child method)\n"
      ],
      "metadata": {
        "id": "84XhnbV9-1r6",
        "colab": {
          "base_uri": "https://localhost:8080/"
        },
        "outputId": "9024e881-569c-4211-c91a-f50af55b9874"
      },
      "execution_count": null,
      "outputs": [
        {
          "output_type": "stream",
          "name": "stdout",
          "text": [
            "Dog barking\n",
            "Animal speaking\n",
            "Animal speaking\n"
          ]
        }
      ]
    },
    {
      "cell_type": "code",
      "source": [
        "class vehicle:\n",
        "  def start(self):\n",
        "    print(\"vehicle is starting..\")\n",
        "  def stop(self):\n",
        "    print(\"vehicle is stopping..\")\n",
        "\n",
        "class car(vehicle):\n",
        "  def drive(self):\n",
        "    print(\"car is bieng driven\")\n",
        "\n",
        "my_car = car()\n",
        "my_car.start()\n",
        "my_car.drive()\n",
        "my_car.stop()"
      ],
      "metadata": {
        "colab": {
          "base_uri": "https://localhost:8080/"
        },
        "id": "quSa9Ln-cFqA",
        "outputId": "4062634a-1024-4b32-a7ea-356e1a6ab237"
      },
      "execution_count": null,
      "outputs": [
        {
          "output_type": "stream",
          "name": "stdout",
          "text": [
            "vehicle is starting..\n",
            "car is bieng driven\n",
            "vehicle is stopping..\n"
          ]
        }
      ]
    },
    {
      "cell_type": "markdown",
      "source": [
        "## 2) Multilevel inhertiance\n",
        "- A class inherits from another derived class, froming a chain of inheritance"
      ],
      "metadata": {
        "id": "M8PNccJ1LZoR"
      }
    },
    {
      "cell_type": "code",
      "source": [
        "class Animal:\n",
        "  def speak(self):\n",
        "    print(\"Animal speaking\")\n",
        "\n",
        "class Dog(Animal):  # Child class (inheritance)\n",
        "  def bark(self):\n",
        "    print(\"Dog barking\")\n",
        "\n",
        "class Dogchild(Dog):  # multilevel inheritance\n",
        "  def eat(self):\n",
        "    print(\"Eating bread....\")\n",
        "\n",
        "d=Dog()\n",
        "d.bark()\n",
        "d.speak()\n",
        "# d.eat()  AttributeError: 'Dog' object has no attribute 'eat'\n",
        "\n",
        "print()\n",
        "\n",
        "d1=Dogchild()  # multilevel child have all method\n",
        "d1.bark()\n",
        "d1.speak()\n",
        "d1.eat()\n"
      ],
      "metadata": {
        "colab": {
          "base_uri": "https://localhost:8080/"
        },
        "id": "zVxarMSMDZrR",
        "outputId": "74ebcc48-fb2c-4db2-f367-bafc895301d3"
      },
      "execution_count": null,
      "outputs": [
        {
          "output_type": "stream",
          "name": "stdout",
          "text": [
            "Dog barking\n",
            "Animal speaking\n",
            "\n",
            "Dog barking\n",
            "Animal speaking\n",
            "Eating bread....\n"
          ]
        }
      ]
    },
    {
      "cell_type": "markdown",
      "source": [
        "## 3) Hierarchial inheritance:\n",
        " - Multiple derived classes inherit from a single parent class, allowing shared behavior across diggerent subcalsses"
      ],
      "metadata": {
        "id": "SipuDzW4Mf4i"
      }
    },
    {
      "cell_type": "code",
      "source": [
        "class shape:  # This is parent class\n",
        "  def info(self):\n",
        "    print(\"Shpes have dimenstions...\")\n",
        "\n",
        "class circle(shape):  # this child of shape\n",
        "  def draw(self):\n",
        "    print(\"Drawing a circle...\")\n",
        "\n",
        "class Rectangle(shape): # this also child of shape\n",
        "  def draw(self):\n",
        "    print(\"Drawing a rectangle...\")\n",
        "\n",
        "c=circle()\n",
        "r=Rectangle()\n",
        "c.info()\n",
        "c.draw()\n",
        "r.info()\n",
        "r.draw()"
      ],
      "metadata": {
        "id": "-DCa70j6L_YK",
        "outputId": "d131d6e4-af23-41ca-818a-a16b8ffcd016",
        "colab": {
          "base_uri": "https://localhost:8080/"
        }
      },
      "execution_count": null,
      "outputs": [
        {
          "output_type": "stream",
          "name": "stdout",
          "text": [
            "Shpes have dimenstions...\n",
            "Drawing a circle...\n",
            "Shpes have dimenstions...\n",
            "Drawing a rectangle...\n"
          ]
        }
      ]
    },
    {
      "cell_type": "code",
      "source": [
        "class person: # parent\n",
        "  def introduce(self):\n",
        "    print(\"Iam a person..\")\n",
        "\n",
        "class Teacher(person): #child of person\n",
        "  def teach(self):\n",
        "    print(\"I teach students..\")\n",
        "\n",
        "class Student(person): # also child of person\n",
        "  def study(self):\n",
        "    print(\"I study subjects\")\n",
        "\n",
        "teacher=Teacher()\n",
        "student=Student()\n",
        "\n",
        "teacher.introduce()\n",
        "teacher.teach()\n",
        "\n",
        "print()\n",
        "\n",
        "student.introduce()\n",
        "student.study()"
      ],
      "metadata": {
        "colab": {
          "base_uri": "https://localhost:8080/"
        },
        "id": "iviDnKxZWhpX",
        "outputId": "79544d30-6509-4356-89f9-54d15f2c847e"
      },
      "execution_count": null,
      "outputs": [
        {
          "output_type": "stream",
          "name": "stdout",
          "text": [
            "Iam a person..\n",
            "I teach students..\n",
            "\n",
            "Iam a person..\n",
            "I study subjects\n"
          ]
        }
      ]
    },
    {
      "cell_type": "markdown",
      "source": [
        "##  4) Multiple Inheritance:\n",
        " - A single derived clas inhertis from multiple parent classes, combining functionalities from different sources."
      ],
      "metadata": {
        "id": "D0FlXMchOK2C"
      }
    },
    {
      "cell_type": "code",
      "source": [
        "class Calculation1: # parent class\n",
        "  def summation(self,a,b):\n",
        "    print(a+b)\n",
        "\n",
        "class Calculation2: # another parent class\n",
        "  def multiplication(self,a,b):\n",
        "    print(a*b)\n",
        "\n",
        "\n",
        "class Derived(Calculation1,Calculation2):  # child from that both parent classes\n",
        "  def divide(self,a,b):\n",
        "    print(a/b)\n",
        "\n",
        "\n",
        "d=Derived()\n",
        "d.summation(10,20)\n",
        "d.multiplication(10,20)\n",
        "d.divide(10,20)"
      ],
      "metadata": {
        "colab": {
          "base_uri": "https://localhost:8080/"
        },
        "id": "Z4DoA5B4Xxff",
        "outputId": "e9c5dbc3-476f-4238-c9d6-025f18635d6c"
      },
      "execution_count": null,
      "outputs": [
        {
          "output_type": "stream",
          "name": "stdout",
          "text": [
            "30\n",
            "200\n",
            "0.5\n"
          ]
        }
      ]
    },
    {
      "cell_type": "markdown",
      "source": [
        "## Hybrid inheritance\n",
        "\n",
        "\n",
        "Hybrid inheritance is a combination of two or more types of inheritance (such as single, multiple, multilevel, or hierarchial inheritance ) in a single program. It allows a more complex class hierarchy to be created, leveraging the benefits of different inheritance types."
      ],
      "metadata": {
        "id": "_SNEu4wBj-2Y"
      }
    },
    {
      "cell_type": "code",
      "source": [
        "class person:\n",
        "  def show(self):\n",
        "    print(\"I am a person\")\n",
        "class teacher(person):\n",
        "  def teach(self):\n",
        "    print(\"i teach students\")\n",
        "\n",
        "class staff:\n",
        "  def manage(self):\n",
        "    print(\"I manage school activities\")\n",
        "\n",
        "# hybrid inheritenc principal inherits from both teacher and staff (single + multiple)\n",
        "class principal(teacher, staff):\n",
        "  def oversea(self):\n",
        "    print(\"I oversea the entire school\")\n",
        "\n",
        "principal = principal()\n",
        "principal.show()\n",
        "principal.teach()\n",
        "principal.manage()\n",
        "principal.oversea()"
      ],
      "metadata": {
        "colab": {
          "base_uri": "https://localhost:8080/"
        },
        "id": "IrDYPwtjkiG_",
        "outputId": "9cbd5577-f476-454e-fdc1-1d5261adfb87"
      },
      "execution_count": null,
      "outputs": [
        {
          "output_type": "stream",
          "name": "stdout",
          "text": [
            "I am a person\n",
            "i teach students\n",
            "I manage school activities\n",
            "I oversea the entire school\n"
          ]
        }
      ]
    },
    {
      "cell_type": "markdown",
      "source": [
        "## super( ) method\n",
        "we can call parent method using super() function\n",
        "- Super() is a built-in function in python that allows a derived (child) class to access and invoke methods or constructors from its parent (base) class. It is commmonly used to aaviod code duplication and facilitate mthod resolution in multiple inheritance:\n",
        "      super().method_name(arguments)\n",
        "\n",
        "\n",
        "\n",
        "**Key Features of super():**\n",
        " - 1. Access parent class method:\n",
        "  - It allows calling methods of a parent class from within a child class.\n",
        "- 2. Avoid Direct Parent Class Name:\n",
        " - Insted of hardcoding the parent class name, super() provides a more flecible way to reference the parent\n",
        "- 3. Common Usage:\n",
        " - Calling the constructor ( _ _init_ _ ) of the parent class\n",
        " - Calling overriden methods."
      ],
      "metadata": {
        "id": "oYG2WWroORM8"
      }
    },
    {
      "cell_type": "code",
      "source": [],
      "metadata": {
        "id": "fcq6dogmvi0N"
      },
      "execution_count": null,
      "outputs": []
    },
    {
      "cell_type": "code",
      "source": [
        "class parent:\n",
        "  def greet1(self):\n",
        "    print(\"Hello from parent..\")\n",
        "\n",
        "class child(parent):\n",
        "  def greet2(self):\n",
        "    super().greet1()  # Calling parent method\n",
        "    print(\"Hello from child..\")\n",
        "\n",
        "child=child()\n",
        "child.greet2()"
      ],
      "metadata": {
        "colab": {
          "base_uri": "https://localhost:8080/"
        },
        "id": "zg8A0BloOHcy",
        "outputId": "1a34c57e-3fc4-4884-b8b7-477fce53b501"
      },
      "execution_count": null,
      "outputs": [
        {
          "output_type": "stream",
          "name": "stdout",
          "text": [
            "Hello from parent..\n",
            "Hello from child..\n"
          ]
        }
      ]
    },
    {
      "cell_type": "code",
      "source": [
        "class parent:\n",
        "  def __init__(self,name):\n",
        "    self.name=name\n",
        "    print(\"Parent constructor called..\")\n",
        "\n",
        "class child(parent):\n",
        "  def __init__(self,name,age):\n",
        "    super().__init__(name)\n",
        "    self.age = age\n",
        "    print(\"Child construnctor called..\")\n",
        "\n",
        "child=child(\"Anshif\",21)"
      ],
      "metadata": {
        "colab": {
          "base_uri": "https://localhost:8080/"
        },
        "id": "sQEzeB7dO60r",
        "outputId": "acca7e3f-2245-4b9f-d595-fb0c186ee55e"
      },
      "execution_count": null,
      "outputs": [
        {
          "output_type": "stream",
          "name": "stdout",
          "text": [
            "Parent constructor called..\n",
            "Child construnctor called..\n"
          ]
        }
      ]
    },
    {
      "cell_type": "markdown",
      "source": [
        "# **Ploymorphism**\n",
        "\n",
        "Polymorphism comes from the Greak words \"poly\" (many) and \"morphs\" (forms), meaning one task can be performed in different ways. In Object-Oriented programming (oop), polymorphism allows the same method name to behave differently based on the object that calls it.\n"
      ],
      "metadata": {
        "id": "nx1bAKzkVEQu"
      }
    },
    {
      "cell_type": "markdown",
      "source": [
        "**Types of Polymorphism**\n",
        "\n",
        "- 1. Method Overriding (Runtime Polymorphism)\n",
        " - A child class provides a specific implemntation of a method that is already defined in the parent class.\n",
        "- 2. Method Overloading (Compile-time Polymorphism - Not in python):\n",
        " - Multiple methods with the same name but different parameters.\n",
        "  (python does not support method overloading directly like other languages such as java or C++)"
      ],
      "metadata": {
        "id": "2pd3SFCgYqtN"
      }
    },
    {
      "cell_type": "markdown",
      "source": [
        "# - **1. Method Overriding (Runtime Polymorphism)**\n",
        " - A child class provides a specific implemntation of a method that is already defined in the parent class."
      ],
      "metadata": {
        "id": "F_BT0E9nMYyS"
      }
    },
    {
      "cell_type": "code",
      "source": [
        "class A:\n",
        "  def show(self):\n",
        "    print(\"Class A\")\n",
        "\n",
        "class B(A):\n",
        "  def show(self):\n",
        "    print(\"Class B\")\n",
        "\n",
        "class C(B):\n",
        "  def show(self):\n",
        "    print(\"Class C\")\n",
        "\n",
        "obj= C()\n",
        "obj.show() # Method Overriding"
      ],
      "metadata": {
        "colab": {
          "base_uri": "https://localhost:8080/"
        },
        "id": "9emaB1iyUFeM",
        "outputId": "d9b4d857-198e-432b-9c4b-0d467910501d"
      },
      "execution_count": null,
      "outputs": [
        {
          "output_type": "stream",
          "name": "stdout",
          "text": [
            "Class C\n"
          ]
        }
      ]
    },
    {
      "cell_type": "code",
      "source": [
        "class A:\n",
        "  def show(self):\n",
        "    print(\"Class A\")\n",
        "\n",
        "class B(A):\n",
        "  def show(self):\n",
        "    super().show()\n",
        "    print(\"Class B\")\n",
        "\n",
        "class C(B):\n",
        "  def show(self):\n",
        "    super().show()\n",
        "    print(\"Class C\")\n",
        "\n",
        "obj= C()\n",
        "obj.show()"
      ],
      "metadata": {
        "colab": {
          "base_uri": "https://localhost:8080/"
        },
        "id": "K2wSHxEBXPQl",
        "outputId": "034ceaa4-308f-41c6-93d2-db1535d6af58"
      },
      "execution_count": null,
      "outputs": [
        {
          "output_type": "stream",
          "name": "stdout",
          "text": [
            "Class A\n",
            "Class B\n",
            "Class C\n"
          ]
        }
      ]
    },
    {
      "cell_type": "markdown",
      "source": [
        "`super kodthal yella classintem varum`"
      ],
      "metadata": {
        "id": "3yKy6cuTj5mt"
      }
    },
    {
      "cell_type": "code",
      "source": [
        "class animal:\n",
        "\n",
        "  def speak(self):\n",
        "    print(\"Animal is making sound\")\n",
        "\n",
        "class dog(animal):\n",
        "  def speak(self):\n",
        "    print(\"Dog barks\")\n",
        "\n",
        "class cat(animal):\n",
        "  def speak(self):\n",
        "    print(\"cat mweows\")\n",
        "\n",
        "dog  = dog()\n",
        "cat = cat()\n",
        "\n",
        "dog.speak()\n",
        "cat.speak()"
      ],
      "metadata": {
        "colab": {
          "base_uri": "https://localhost:8080/"
        },
        "id": "nxrIWYmZX78d",
        "outputId": "294bc64a-83d1-4e3e-a46e-4a377ccd7cff"
      },
      "execution_count": null,
      "outputs": [
        {
          "output_type": "stream",
          "name": "stdout",
          "text": [
            "Dog barks\n",
            "cat mweows\n"
          ]
        }
      ]
    },
    {
      "cell_type": "markdown",
      "source": [
        "### **Method overloading**\n",
        "\n",
        "Polymorphism in python allows different classes to have methods with the same name but different functionality. **Method overloading** means having multiple methods with the same name but different numbers or types of parameters.\n",
        "\n",
        "\n",
        "- **Default arguments** - Providing default values to parameters.\n",
        "- **Variable - length arguments ( * args, ** kwargs )** - Allowing a method to acccept different numbersof arguments"
      ],
      "metadata": {
        "id": "cZe__eW0Mka7"
      }
    },
    {
      "cell_type": "markdown",
      "source": [
        "- 2. Method Overloading (Compile-time Polymorphism - Not in python):\n",
        " - Multiple methods with the same name but different parameters.\n",
        "  (python does not support method overloading directly like other languages such as java or C++)"
      ],
      "metadata": {
        "id": "r8hfnwEnMgZL"
      }
    },
    {
      "cell_type": "markdown",
      "source": [
        "### - **Default arguments** - Providing default values to parameters.\n"
      ],
      "metadata": {
        "id": "yjM1mNohQCnp"
      }
    },
    {
      "cell_type": "code",
      "source": [
        "class Calculator:\n",
        "  def add (self, a, b=0, c=0):\n",
        "    print(a+b+c)\n",
        "\n",
        "calc = Calculator()\n",
        "\n",
        "# Call the mthod with differnt numbers of arguments\n",
        "calc.add(5)\n",
        "calc.add(5,10)\n",
        "calc.add(5,10,20)"
      ],
      "metadata": {
        "colab": {
          "base_uri": "https://localhost:8080/"
        },
        "id": "BgGziSk5dPEg",
        "outputId": "f87f5401-ad40-4316-f285-71db9bbaa04c"
      },
      "execution_count": null,
      "outputs": [
        {
          "output_type": "stream",
          "name": "stdout",
          "text": [
            "5\n",
            "15\n",
            "35\n"
          ]
        }
      ]
    },
    {
      "cell_type": "markdown",
      "source": [
        "### - **Variable - length arguments ( * args, ** kwargs )** - Allowing a method to acccept different numbersof arguments"
      ],
      "metadata": {
        "id": "JLqDZE29QE2p"
      }
    },
    {
      "cell_type": "markdown",
      "source": [
        "**positional arguments ( *args )**"
      ],
      "metadata": {
        "id": "Q6Rz4Rg0TYiv"
      }
    },
    {
      "cell_type": "code",
      "source": [
        "class mathoperations:\n",
        "  def add (self, *numbers):\n",
        "    total = sum(numbers)\n",
        "    print(f\"Sum: {total}\")\n",
        "\n",
        "math = mathoperations()\n",
        "\n",
        "\n",
        "# call the method with n number of argumetns using (*args)\n",
        "math.add(5)\n",
        "math.add(5,10)\n",
        "math.add(1,2,3,4)"
      ],
      "metadata": {
        "id": "bJeCpinVdWYc",
        "colab": {
          "base_uri": "https://localhost:8080/"
        },
        "outputId": "846287e4-61b0-45c2-dde5-56857e245b36"
      },
      "execution_count": null,
      "outputs": [
        {
          "output_type": "stream",
          "name": "stdout",
          "text": [
            "Sum: 5\n",
            "Sum: 15\n",
            "Sum: 10\n"
          ]
        }
      ]
    },
    {
      "cell_type": "markdown",
      "source": [
        "**keyword arguments ( **keyword )**"
      ],
      "metadata": {
        "id": "tj97MzSDToG_"
      }
    },
    {
      "cell_type": "code",
      "source": [
        "class Greeting:\n",
        "  def say_hello(self, **kwargs):\n",
        "    print(f\"Hello {kwargs['name']}!\")\n",
        "    print(f\"You are {kwargs['age']} years old!\")\n",
        "    print(f\"You are from {kwargs['city']}!\")\n",
        "\n",
        "g=Greeting()\n",
        "# g.say_hello()\n",
        "g.say_hello(name=\"Anshif\", age=21, city=\"Puthanathani\")"
      ],
      "metadata": {
        "colab": {
          "base_uri": "https://localhost:8080/"
        },
        "id": "m6pGXhZUTtC4",
        "outputId": "70d8c4ba-046a-4ac8-8bb8-2b789749575b"
      },
      "execution_count": null,
      "outputs": [
        {
          "output_type": "stream",
          "name": "stdout",
          "text": [
            "Hello Anshif!\n",
            "You are 21 years old!\n",
            "You are from Puthanathani!\n"
          ]
        }
      ]
    },
    {
      "cell_type": "markdown",
      "source": [
        "# **Encapsulation**\n",
        "\n",
        "**Encapsulation** is one of the fundamental concepts in OOP that refers to binding data ( variables ) and methods ( fucntions ) that operate on the data into a single unit, and restriciting direct access to some of the object's components\n",
        "\n",
        "- In simpler terms, Encapsulation is about protecting data by controlling access to it.\n",
        "\n"
      ],
      "metadata": {
        "id": "xHBPZ5u1DF7T"
      }
    },
    {
      "cell_type": "markdown",
      "source": [
        "**Key Features of Encapsulation:**\n",
        " - 1) **Data Hiding :** Internal detailsof an object aare hidden from the outside world\n",
        " - 2) **Access Controll :** Provides controlled access using public, private, and protected access specifiers.\n",
        " - 3) **Improved Security :** Prevents unathorized access and accidental modification of data"
      ],
      "metadata": {
        "id": "jiOq9llaFbEf"
      }
    },
    {
      "cell_type": "markdown",
      "source": [
        "**Encapsulation Access Specifiers in Python :**\n",
        "- **Public Members :** Accessible from anywhere.\n",
        "- **Protected Members ( _variable ):** Intended for internal use but can be accessed with a warning\n",
        "- **Private Members ( __variables ) :** Not accessible directly outside the class\n"
      ],
      "metadata": {
        "id": "bnxA_PsgZkhy"
      }
    },
    {
      "cell_type": "code",
      "source": [
        "class company:\n",
        "  def __init__(self, company_name,company_id):\n",
        "    self.__company_name = company_name\n",
        "    self._company_id = company_id\n",
        "\n",
        "c1=company(\"TCS\",91)\n",
        "print(c1._company_id) # we can print one underscore variable\n",
        "# print(c1.__company_name)    # we can't print two underscore variable !"
      ],
      "metadata": {
        "colab": {
          "base_uri": "https://localhost:8080/"
        },
        "id": "071nD5p0LRLm",
        "outputId": "30b4b58f-4513-44fe-dc22-6b4c226a4577"
      },
      "execution_count": null,
      "outputs": [
        {
          "output_type": "stream",
          "name": "stdout",
          "text": [
            "91\n"
          ]
        }
      ]
    },
    {
      "cell_type": "markdown",
      "source": [
        "` double underscored variable we can't acces outside of class, but we can access on the class `"
      ],
      "metadata": {
        "id": "-le9f4LMfi53"
      }
    },
    {
      "cell_type": "code",
      "source": [
        "class company:\n",
        "  def __init__(self, company_name,company_id):\n",
        "    self.__company_name = company_name\n",
        "    self._company_id = company_id\n",
        "\n",
        "  def get_company_name(self):\n",
        "    print(self.__company_name)\n",
        "\n",
        "c1 = company(\"TCS\",91)\n",
        "c1.get_company_name() # we can simply acccess now"
      ],
      "metadata": {
        "colab": {
          "base_uri": "https://localhost:8080/"
        },
        "id": "oCU6vY-jeFum",
        "outputId": "f448a1ca-94fa-4652-d2ee-013684f4c922"
      },
      "execution_count": null,
      "outputs": [
        {
          "output_type": "stream",
          "name": "stdout",
          "text": [
            "TCS\n"
          ]
        }
      ]
    },
    {
      "cell_type": "code",
      "source": [
        "class bankaccount:\n",
        "  def __init__(self, account_number, balance):\n",
        "    self.__account_number = account_number\n",
        "    self.__balance = balance\n",
        "  def deposite(self, amount):\n",
        "    if amount > 0:\n",
        "      self.__balance +=amount\n",
        "      print(f\"Deposited {amount}. New balance: {self.__balance}\")\n",
        "    else:\n",
        "      print(\"Invalid deposit error\")\n",
        "\n",
        "  def get_balance(self):\n",
        "    return self.__balance\n",
        "\n",
        "account = bankaccount(\"12345\", 1000)\n",
        "account.deposite(500)\n",
        "# print(account.__balance) AttributeError: 'bankaccount' object has no attribute '_bankaccount__balance'\n",
        "print(account.get_balance())"
      ],
      "metadata": {
        "colab": {
          "base_uri": "https://localhost:8080/"
        },
        "id": "7kZjyOS8gOsG",
        "outputId": "d7641eac-c99b-4c10-8d7e-20de59854f71"
      },
      "execution_count": null,
      "outputs": [
        {
          "output_type": "stream",
          "name": "stdout",
          "text": [
            "Deposited 500. New balance: 1500\n",
            "1500\n"
          ]
        }
      ]
    },
    {
      "cell_type": "markdown",
      "source": [
        "# Abstraction\n",
        "\n",
        "- Abstraction is a concept in **Object-Oriented Programming ( OOP )** that focuses on **hiding the implementation details** and showing only the necessary featyres of an object.\n",
        "\n",
        "- It allows  users to focus on **what an object dows** rather than how it does it.\n",
        "\n",
        "- **Example :**\n",
        " - When you use a smartphone you only see the interface ( buttons, icons ) but you don't need to know how the internal circuits work\n",
        "\n",
        "\n",
        "\n",
        " - **Why is Abstraction important?**\n",
        "  - Simplifies complex systems by focusing only on essential aspects.\n",
        "  - Reduces code complexity and increases reusability.\n",
        "  - Enhances security by restricting direct acces to implementation details"
      ],
      "metadata": {
        "id": "Po1lM1pxPI7m"
      }
    },
    {
      "cell_type": "markdown",
      "source": [
        "**Abstraction in Python Using Abstract Classes**\n",
        "\n",
        "  - Python provides **abstraction** using **abstract classes** and  **abstract methods** which are defined in the abc module\n",
        "  - **Abstract class :** A class that contains one or more abstract methods, ti cannot be instantiated directly.\n",
        "  - **Abstrcat method :** A method that is declared but contains no implementation ( must be implemented by child classses. )"
      ],
      "metadata": {
        "id": "BTIGjPaoUaKV"
      }
    },
    {
      "cell_type": "markdown",
      "source": [
        "**from abc import ABC, abstractmethod**"
      ],
      "metadata": {
        "id": "SfGEwjIiVxf9"
      }
    },
    {
      "cell_type": "code",
      "source": [
        "from abc import ABC, abstractmethod\n",
        "\n",
        "class Vehicle(ABC): #abstract class\n",
        "\n",
        "  @abstractmethod\n",
        "  def start_engine(self):\n",
        "    pass #abstract method with no implementation\n",
        "\n",
        "\n",
        "  @abstractmethod\n",
        "  def stop_engine(self):\n",
        "    pass #abstract method with no implementation\n",
        "\n",
        "# An abstract class cannot be instantiated directly\n",
        "v=Vehicle() # TypeError: Can't instantiate abstract class Vehicle with abstract methods start_engine, stop_engine\n"
      ],
      "metadata": {
        "colab": {
          "base_uri": "https://localhost:8080/",
          "height": 211
        },
        "id": "h78TmYgSPL8u",
        "outputId": "0e922e12-c654-47b4-c843-c35acf90d2bb"
      },
      "execution_count": null,
      "outputs": [
        {
          "output_type": "error",
          "ename": "TypeError",
          "evalue": "Can't instantiate abstract class Vehicle with abstract methods start_engine, stop_engine",
          "traceback": [
            "\u001b[0;31m---------------------------------------------------------------------------\u001b[0m",
            "\u001b[0;31mTypeError\u001b[0m                                 Traceback (most recent call last)",
            "\u001b[0;32m<ipython-input-7-25e7266f2bb7>\u001b[0m in \u001b[0;36m<cell line: 0>\u001b[0;34m()\u001b[0m\n\u001b[1;32m     13\u001b[0m \u001b[0;34m\u001b[0m\u001b[0m\n\u001b[1;32m     14\u001b[0m \u001b[0;31m# An abstract class cannot be instantiated directly\u001b[0m\u001b[0;34m\u001b[0m\u001b[0;34m\u001b[0m\u001b[0m\n\u001b[0;32m---> 15\u001b[0;31m \u001b[0mv\u001b[0m\u001b[0;34m=\u001b[0m\u001b[0mVehicle\u001b[0m\u001b[0;34m(\u001b[0m\u001b[0;34m)\u001b[0m\u001b[0;34m\u001b[0m\u001b[0;34m\u001b[0m\u001b[0m\n\u001b[0m\u001b[1;32m     16\u001b[0m \u001b[0mv\u001b[0m\u001b[0;34m.\u001b[0m\u001b[0mstart_engine\u001b[0m\u001b[0;34m(\u001b[0m\u001b[0;34m)\u001b[0m \u001b[0;31m# TypeError: Can't instantiate abstract class Vehicle with abstract methods start_engine, stop_engine\u001b[0m\u001b[0;34m\u001b[0m\u001b[0;34m\u001b[0m\u001b[0m\n",
            "\u001b[0;31mTypeError\u001b[0m: Can't instantiate abstract class Vehicle with abstract methods start_engine, stop_engine"
          ]
        }
      ]
    },
    {
      "cell_type": "code",
      "source": [
        "from abc import ABC, abstractmethod\n",
        "\n",
        "class Vehicle(ABC): #abstract class\n",
        "\n",
        "  @abstractmethod\n",
        "  def start_engine(self):\n",
        "    pass #abstract method with no implementation\n",
        "\n",
        "\n",
        "  @abstractmethod\n",
        "  def stop_engine(self):\n",
        "    pass #abstract method with no implementation\n",
        "\n",
        "\n",
        "# making child class for abstract class instantiating\n",
        "\n",
        "class car(Vehicle): # child class of vehicle\n",
        "\n",
        "  def start_engine(self):  # also we need to create same function (method) in child class  other wise it will shows error!\n",
        "    print(\"Car engine started\")\n",
        "\n",
        "  def stop_engine(self):   # also we need to create same function (method) in child class  other wise it will shows error!\n",
        "    print(\"Car engine stopped\")\n",
        "\n",
        "car = car()\n",
        "car.start_engine()\n",
        "car.stop_engine()"
      ],
      "metadata": {
        "colab": {
          "base_uri": "https://localhost:8080/"
        },
        "id": "irnP169iYO4M",
        "outputId": "8739f304-7ba3-41c7-cceb-51b4bde68528"
      },
      "execution_count": null,
      "outputs": [
        {
          "output_type": "stream",
          "name": "stdout",
          "text": [
            "Car engine started\n",
            "Car engine stopped\n"
          ]
        }
      ]
    },
    {
      "cell_type": "markdown",
      "source": [
        " - `If we want to make object from abstract class we can't directly make object from the abstract class.`\n",
        "\n",
        " - `So we need to make child class for abstract class object making`\n",
        " - `And also need to make same method ( function ) on child class also`"
      ],
      "metadata": {
        "id": "YKh8N2I5Zo7T"
      }
    },
    {
      "cell_type": "markdown",
      "source": [
        "- All child classes **must** impement the abstract methos of the parent abstract class.\n",
        "- Abstract class can have both **abstract methods and concrete ( regular ) methods**."
      ],
      "metadata": {
        "id": "tm9vTz8GacGz"
      }
    },
    {
      "cell_type": "code",
      "source": [
        "from abc import ABC, abstractmethod\n",
        "\n",
        "class Shape(ABC):\n",
        "  @abstractmethod\n",
        "  def calculate_area(self):\n",
        "    pass\n",
        "\n",
        "\n",
        "class circle(Shape):\n",
        "\n",
        "  def __init__(self,radius):\n",
        "    self.radius = radius\n",
        "\n",
        "  def calculate_area(self):\n",
        "    print(f\"circle area is : {3.14 * (self.radius)**2 }\")\n",
        "\n",
        "\n",
        "class Rectangle(Shape):\n",
        "\n",
        "  def __init__(self, width, height):\n",
        "    self.width = width\n",
        "    self.height = height\n",
        "\n",
        "  def calculate_area(self):\n",
        "    print(f\"Rectangle area is : {self.width * self.height}\")\n",
        "\n",
        "cir = circle(10)\n",
        "rect= Rectangle(5,10)\n",
        "\n",
        "cir.calculate_area()\n",
        "print()\n",
        "rect.calculate_area()"
      ],
      "metadata": {
        "colab": {
          "base_uri": "https://localhost:8080/"
        },
        "id": "uRP70SDnZKWL",
        "outputId": "546da73e-08c6-45c8-f8e3-6f2bfda8b99f"
      },
      "execution_count": null,
      "outputs": [
        {
          "output_type": "stream",
          "name": "stdout",
          "text": [
            "circle area is : 314.0\n",
            "\n",
            "Rectangle area is : 50\n"
          ]
        }
      ]
    },
    {
      "cell_type": "markdown",
      "source": [
        "# class methods\n",
        "\n",
        "Class methods can modify class-level variables or properties (variables shared among all instances).This allows changes to be made that affect the class as a whole, rather than just an individual instance.\n",
        "\n",
        "\n",
        "**( @classmethod ):** This is used to define a class method, it indicates that the method is bound to the class, not to an instance.\n",
        "\n",
        "**First Parameter (cls):** the first prameter of a class method is always a refernce to the class itself, typically named cls. This is similar to how instance methods have refernce to the instance ( typically names self ).\n",
        "\n",
        "\n",
        "    class Myclass:\n",
        "      @classsmethod\n",
        "      def my_class_methods(cls,args):\n",
        "        # \"cls\" is a reference to the class itself\n",
        "        # This method can modify class state pass"
      ],
      "metadata": {
        "id": "dm-tn7CYXc1G"
      }
    },
    {
      "cell_type": "code",
      "source": [
        "class car:\n",
        "  #clas variable\n",
        "  wheels = 4\n",
        "\n",
        "  def __init__(self, brand, model):\n",
        "    self.brand = brand\n",
        "    self.model = model\n",
        "\n",
        "  @classmethod\n",
        "  def change_wheels(cls, new_wheels):\n",
        "    cls.wheels = new_wheels\n",
        "    print(f\"The number of wheels has been updated to {cls.wheels}.\")\n",
        "\n",
        "\n",
        "# create an instance of car\n",
        "car1 = car(\"Toyoata\",\"Etios\")\n",
        "\n",
        "# call the class method to modify the class variable\n",
        "car.change_wheels(6)\n",
        "\n",
        "print()\n",
        "\n",
        "# the class variable \"wheels\" is now changed for all instances\n",
        "print(f\"car variable updated to :{car1.wheels}\")\n"
      ],
      "metadata": {
        "colab": {
          "base_uri": "https://localhost:8080/"
        },
        "id": "9MUUi3d9XhYN",
        "outputId": "cb52a912-34a6-4137-ff8b-9062923b4417"
      },
      "execution_count": null,
      "outputs": [
        {
          "output_type": "stream",
          "name": "stdout",
          "text": [
            "The number of wheels has been updated to 6.\n",
            "\n",
            "car variable updated to :6\n"
          ]
        }
      ]
    },
    {
      "cell_type": "code",
      "source": [
        "class Car:\n",
        "    # Class attribute (shared by all instances)\n",
        "    wheels = 4\n",
        "\n",
        "    def __init__(self, brand):\n",
        "        # Instance attribute (unique to each instance)\n",
        "        self.brand = brand\n",
        "\n",
        "    def show_brand(self):\n",
        "        print(f\"This car is a {self.brand}\")\n",
        "\n",
        "    @classmethod\n",
        "    def show_wheels(cls):\n",
        "        print(f\"All cars have {cls.wheels} wheels\")\n",
        "\n",
        "# Create instances\n",
        "car1 = Car(\"Toyota\")\n",
        "car2 = Car(\"Ford\")\n",
        "\n",
        "# Instance method: uses 'self' to access instance data\n",
        "car1.show_brand()  # Output: This car is a Toyota\n",
        "car2.show_brand()  # Output: This car is a Ford\n",
        "\n",
        "# Class method: uses 'cls' to access class data\n",
        "Car.show_wheels()  # Output: All cars have 4 wheels\n",
        "\n",
        "# Can also call class method from an instance (but still accesses class data!)\n",
        "car1.show_wheels()  # Output: All cars have 4 wheels\n"
      ],
      "metadata": {
        "id": "jb_giCQ70FmH",
        "outputId": "5579a88f-70a8-45f0-f23c-462d6f276c2a",
        "colab": {
          "base_uri": "https://localhost:8080/"
        }
      },
      "execution_count": null,
      "outputs": [
        {
          "output_type": "stream",
          "name": "stdout",
          "text": [
            "This car is a Toyota\n",
            "This car is a Ford\n",
            "All cars have 4 wheels\n",
            "All cars have 4 wheels\n"
          ]
        }
      ]
    },
    {
      "cell_type": "code",
      "source": [
        "class Car:\n",
        "    # Class attribute (shared by all instances)\n",
        "    wheels = 4\n",
        "\n",
        "    def __init__(self, brand):\n",
        "        # Instance attribute (unique to each instance)\n",
        "        self.brand = brand\n",
        "\n",
        "    def show_brand(self):\n",
        "        print(f\"This car is a {self.brand}\")\n",
        "\n",
        "    @classmethod\n",
        "    def show_wheels(cls,new_wheel):\n",
        "      cls.wheels=new_wheel\n",
        "      print(f\"All cars have {cls.wheels} wheels\")\n",
        "\n",
        "# Create instances\n",
        "car1 = Car(\"Toyota\")\n",
        "car2 = Car(\"Ford\")\n",
        "\n",
        "# Instance method: uses 'self' to access instance data\n",
        "car1.show_brand()  # Output: This car is a Toyota\n",
        "car2.show_brand()  # Output: This car is a Ford\n",
        "\n",
        "# Class method: uses 'cls' to access class data\n",
        "Car.show_wheels(2)\n",
        "\n",
        "# Can also call class method from an instance (but still accesses class data!)\n",
        "car1.show_wheels(3)"
      ],
      "metadata": {
        "id": "TdgCNf5tuJce"
      },
      "execution_count": null,
      "outputs": []
    },
    {
      "cell_type": "markdown",
      "source": [
        "# practice"
      ],
      "metadata": {
        "id": "jYuTSFfALbzh"
      }
    },
    {
      "cell_type": "markdown",
      "source": [
        "1.Create an abstract class Animal with an abstract method make_sound(). Then, implement two subclasses, Dog and Cat, which override the make_sound() method to print the respective animal sounds. Instantiate both classes and call their make_sound() methods.\n",
        "\n"
      ],
      "metadata": {
        "id": "u6B-aw6YLewg"
      }
    },
    {
      "cell_type": "code",
      "source": [
        "from abc import ABC, abstractmethod\n",
        "\n",
        "class Animal:\n",
        "\n",
        "  @abstractmethod\n",
        "  def make_sound(self):\n",
        "    pass\n",
        "\n",
        "class Dog(Animal):\n",
        "\n",
        "  def make_sound(self):\n",
        "    print(\"Dog make bark sound!\")\n",
        "\n",
        "class cat(Animal):\n",
        "\n",
        "  def make_sound(self):\n",
        "    print(\"Cat make meow sond!\")\n",
        "\n",
        "d=Dog()\n",
        "c=cat()\n",
        "\n",
        "d.make_sound()\n",
        "print()\n",
        "c.make_sound()\n"
      ],
      "metadata": {
        "colab": {
          "base_uri": "https://localhost:8080/"
        },
        "id": "1SO6NCoFfhzB",
        "outputId": "6153a496-5d06-45db-b7ea-44df4cbfb89b"
      },
      "execution_count": null,
      "outputs": [
        {
          "output_type": "stream",
          "name": "stdout",
          "text": [
            "Dog make bark sound!\n",
            "\n",
            "Cat make meow sond!\n"
          ]
        }
      ]
    },
    {
      "cell_type": "markdown",
      "source": [
        "2.Create an abstract class Employee with an abstract method calculate_salary(). Implement two subclasses, FullTimeEmployee and PartTimeEmployee, which calculate salaries based on a fixed monthly salary and an hourly rate, respectively. Instantiate both classes and print their salaries.\n",
        "\n"
      ],
      "metadata": {
        "id": "gmI9xlV0MyXX"
      }
    },
    {
      "cell_type": "code",
      "source": [
        "class employee:\n",
        "\n",
        "  @abstractmethod\n",
        "  def calculate_salary(self):\n",
        "    pass\n",
        "\n",
        "class fulltime_employee(employee):\n",
        "\n",
        "  def __init__(self, salary):\n",
        "    self.salary=salary\n",
        "\n",
        "  def calculate_salary(self):\n",
        "    print(f\"salary of full time employee is {self.salary}\")\n",
        "\n",
        "class partime_employee(employee):\n",
        "\n",
        "\n",
        "  def __init__(self, salary):\n",
        "    self.salary=salary\n",
        "\n",
        "  def calculate_salary(self):\n",
        "    print(f\"salary of partime employee is {self.salary/2}\")\n",
        "\n",
        "f=fulltime_employee(10000)\n",
        "p=partime_employee(10000)\n",
        "\n",
        "f.calculate_salary()\n",
        "print()\n",
        "p.calculate_salary()"
      ],
      "metadata": {
        "colab": {
          "base_uri": "https://localhost:8080/"
        },
        "id": "RknMuZJ1McLu",
        "outputId": "a69e72ff-06e8-4442-f0b0-758f9d3af03b"
      },
      "execution_count": null,
      "outputs": [
        {
          "output_type": "stream",
          "name": "stdout",
          "text": [
            "salary of full time employee is 10000\n",
            "\n",
            "salary of partime employee is 5000.0\n"
          ]
        }
      ]
    },
    {
      "cell_type": "markdown",
      "source": [
        "3.Create an abstract class Polygon with an abstract method number_of_sides(). Implement two subclasses, Triangle and Pentagon, which return the respective number of sides. Instantiate both classes and print the number of sides."
      ],
      "metadata": {
        "id": "SKa8H5pEPIFI"
      }
    },
    {
      "cell_type": "code",
      "source": [
        "class polygon:\n",
        "\n",
        "  @abstractmethod\n",
        "  def number_of_sides():\n",
        "    pass\n",
        "\n",
        "class Triangle(polygon):\n",
        "\n",
        "  def __init__(self, sides):\n",
        "    self.sides=sides\n",
        "\n",
        "  def number_of_sides(self):\n",
        "    print(f\"Triangle side is {self.sides}!\")\n",
        "\n",
        "\n",
        "class Pentagon(polygon):\n",
        "\n",
        "  def __init__(self, sides):\n",
        "    self.sides=sides\n",
        "\n",
        "  def number_of_sides(self):\n",
        "    print(f\"Pentagon side is {self.sides}!\")\n",
        "\n",
        "t=Triangle(3)\n",
        "p=Pentagon(5)\n",
        "\n",
        "t.number_of_sides()\n",
        "print()\n",
        "p.number_of_sides()\n"
      ],
      "metadata": {
        "colab": {
          "base_uri": "https://localhost:8080/"
        },
        "id": "o_PmhRyzOvtW",
        "outputId": "092adfa2-0b88-4d16-8c4e-26c00618f47a"
      },
      "execution_count": null,
      "outputs": [
        {
          "output_type": "stream",
          "name": "stdout",
          "text": [
            "Triangle side is 3!\n",
            "\n",
            "Pentagon side is 5!\n"
          ]
        }
      ]
    },
    {
      "cell_type": "markdown",
      "source": [
        "1. Define a Python class Student with the following private attributes:\n",
        "\n",
        "  __name to store the student's name.\n",
        "  __marks to store the student's marks.\n",
        "\n",
        "2. Implement the following public  getter and setter methods to access and modify these attributes securely:\n",
        "\n",
        "set_name(name) – A method to set the student's name.\n",
        "get_name() – A method to retrieve the student's name.\n",
        "set_marks(marks) – A method to set the student's marks (Ensure marks cannot be negative).\n",
        "get_marks() – A method to retrieve the student's marks.\n",
        "\n",
        "3. Demonstrate the usage of the class by:\n",
        "\n",
        "-Create an instance of the Student class.\n",
        "-Setting the name of the student to \"Alice\" and print it using the getter method.\n",
        "-Setting the marks of the student to 95 and print it using the getter method.\n",
        "-Dont alow negative marks.\n"
      ],
      "metadata": {
        "id": "CYxzB4Q4bzuL"
      }
    },
    {
      "cell_type": "code",
      "source": [
        "class student:\n",
        "\n",
        "  def set_name(self,name):\n",
        "    self.__name = name\n",
        "\n",
        "\n",
        "  def set_mark(self, mark):\n",
        "    if mark < 0:\n",
        "        print(\"Marks cannot be negative.\")\n",
        "    else:\n",
        "        self.__mark = mark\n",
        "\n",
        "  def get_name(self):\n",
        "    print(self.__name)\n",
        "\n",
        "  def get_mark(self):\n",
        "    print(self.__mark)\n",
        "\n",
        "a=student()\n",
        "a.set_name(\"Anshif\")\n",
        "a.set_mark(99)\n",
        "a.get_name()\n",
        "print()\n",
        "a.get_mark()\n"
      ],
      "metadata": {
        "id": "9payeprtPSY2",
        "colab": {
          "base_uri": "https://localhost:8080/"
        },
        "outputId": "c93e0d3c-162f-4247-d77d-0619a3889b1f"
      },
      "execution_count": null,
      "outputs": [
        {
          "output_type": "stream",
          "name": "stdout",
          "text": [
            "Anshif\n",
            "\n",
            "99\n"
          ]
        }
      ]
    },
    {
      "cell_type": "code",
      "source": [
        "class Student:\n",
        "    def __init__(self):\n",
        "        self.__name = \"\"\n",
        "        self.__marks = 0\n",
        "\n",
        "\n",
        "    def set_name(self, name):\n",
        "        self.__name = name\n",
        "\n",
        "\n",
        "    def get_name(self):\n",
        "        return self.__name\n",
        "        print()\n",
        "\n",
        "    def set_marks(self, marks):\n",
        "        if marks < 0:\n",
        "            print(\"Marks cannot be negative. Please provide a valid value.\")\n",
        "            print()\n",
        "        else:\n",
        "            self.__marks = marks\n",
        "\n",
        "\n",
        "    def get_marks(self):\n",
        "        return self.__marks\n",
        "        print()\n",
        "\n",
        "\n",
        "student = Student()\n",
        "\n",
        "student.set_name(\"Anshif\")\n",
        "print(\"Student Name:\", student.get_name())\n",
        "\n",
        "student.set_marks(95)\n",
        "print(\"Student Marks:\", student.get_marks())\n",
        "\n",
        "print()\n",
        "\n",
        "student.set_marks(-10)\n",
        "print(\"Student Marks after invalid attempt:\", student.get_marks())"
      ],
      "metadata": {
        "colab": {
          "base_uri": "https://localhost:8080/"
        },
        "id": "89v_K-_9d6cb",
        "outputId": "af8c0f5b-8155-4ca5-97ed-0b608aa08fde"
      },
      "execution_count": null,
      "outputs": [
        {
          "output_type": "stream",
          "name": "stdout",
          "text": [
            "Student Name: Anshif\n",
            "Student Marks: 95\n",
            "\n",
            "Marks cannot be negative. Please provide a valid value.\n",
            "\n",
            "Student Marks after invalid attempt: 95\n"
          ]
        }
      ]
    },
    {
      "cell_type": "code",
      "source": [],
      "metadata": {
        "id": "r07tA7Kipie8"
      },
      "execution_count": null,
      "outputs": []
    },
    {
      "cell_type": "markdown",
      "source": [
        "Step1 : Define a Python class Employee with the following private attribute:\n",
        "\n",
        "__salary to store the employee's salary.A\n",
        "\n",
        "Step 2 : Implement the following public methods to securely access and modify the salary:\n",
        "\n",
        "-set_salary(salary) – A method to set the employee's salary (Ensure the salary is a positive value).\n",
        "-get_salary() – A method to retrieve the employee's current salary.\n",
        "-increase_salary(percentage) – A method to increase the salary by a given percentage securely and update the salary value.\n",
        "\n",
        "Step 3 : Demonstrate the usage of the class by:\n",
        "\n",
        "-Creating an instance of the Employee class.\n",
        "-Setting the salary to 50000 and printing it using the getter method.\n",
        "-Increasing the salary by 10% and printing the updated salary.\n",
        "-Dont allow negative salary , give warning message\n"
      ],
      "metadata": {
        "id": "pYdBWsVdkYS8"
      }
    },
    {
      "cell_type": "code",
      "source": [
        "class employee:\n",
        "\n",
        "  def __init__(self):\n",
        "    self.__salary= 0\n",
        "    self.__name = \"\"\n",
        "\n",
        "\n",
        "  def set_name(self,name):\n",
        "    self.__name = name\n",
        "\n",
        "  def get_name(self):\n",
        "    print(f\"Employee name : {self.__name}\")\n",
        "\n",
        "  def set_salary(self,salary):\n",
        "    if salary<0:\n",
        "      print(\"Salary cannot be negative!\")\n",
        "    else:\n",
        "      self.__salary = salary\n",
        "\n",
        "  def get_salary(self):\n",
        "    print(f\"Employee {self.__name}'s salary : {self.__salary} \")\n",
        "\n",
        "\n",
        "  def increase_salary(self,percentage):\n",
        "    per_percentage = self.__salary/100\n",
        "    print(f\"Employee  {self.__name}'s updated Salary : {(percentage * percentage) + self.__salary}\")\n",
        "\n",
        "\n",
        "e=employee()\n",
        "e.set_name(\"Anshif\")\n",
        "e.set_salary(50000)\n",
        "\n",
        "\n",
        "e.get_name()\n",
        "print()\n",
        "e.get_salary()\n",
        "print()\n",
        "e.increase_salary(10)\n",
        "\n"
      ],
      "metadata": {
        "colab": {
          "base_uri": "https://localhost:8080/"
        },
        "id": "1ipZL_GUiT-8",
        "outputId": "fae84efc-1676-424c-a00b-980041c124ef"
      },
      "execution_count": null,
      "outputs": [
        {
          "output_type": "stream",
          "name": "stdout",
          "text": [
            "Employee name : Anshif\n",
            "\n",
            "Employee Anshif's salary : 50000 \n",
            "\n",
            "Employee  Anshif's updated Salary : 50100\n"
          ]
        }
      ]
    },
    {
      "cell_type": "code",
      "source": [],
      "metadata": {
        "id": "Uo42fidTohBU"
      },
      "execution_count": null,
      "outputs": []
    }
  ]
}