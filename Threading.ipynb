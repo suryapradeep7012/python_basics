{
  "nbformat": 4,
  "nbformat_minor": 0,
  "metadata": {
    "colab": {
      "provenance": [],
      "authorship_tag": "ABX9TyOLbla7uZ2Xnn9HsP9KROGB",
      "include_colab_link": true
    },
    "kernelspec": {
      "name": "python3",
      "display_name": "Python 3"
    },
    "language_info": {
      "name": "python"
    }
  },
  "cells": [
    {
      "cell_type": "markdown",
      "metadata": {
        "id": "view-in-github",
        "colab_type": "text"
      },
      "source": [
        "<a href=\"https://colab.research.google.com/github/suryapradeep7012/python_basics/blob/main/Threading.ipynb\" target=\"_parent\"><img src=\"https://colab.research.google.com/assets/colab-badge.svg\" alt=\"Open In Colab\"/></a>"
      ]
    },
    {
      "cell_type": "markdown",
      "source": [
        "# Threading\n",
        "Threading allows multiple part of program to run cuncureently\n",
        "\n",
        " - useful for tasks like\n",
        "   - handing multiple user requests.\n",
        "   - background tasks|(monitoring sensors).\n",
        "   - downloding multiple files simultaneously.  \n",
        "\n",
        "\n",
        "# How to use threading in python\n",
        " - 1. import the threading module .\n",
        " - 2. create threads using thrading.Tread()\n",
        " - 3. start thread using, start()\n",
        " - 4. wait for threads to finish using. join()\n",
        "\n"
      ],
      "metadata": {
        "id": "8xx-IIYpDkOq"
      }
    },
    {
      "cell_type": "code",
      "execution_count": null,
      "metadata": {
        "colab": {
          "base_uri": "https://localhost:8080/"
        },
        "id": "8m6PBI8-Dd2L",
        "outputId": "ad4f2dde-c4d4-4832-d172-98e659b675c4"
      },
      "outputs": [
        {
          "output_type": "stream",
          "name": "stdout",
          "text": [
            "thread running\n"
          ]
        }
      ],
      "source": [
        "import threading\n",
        "def task():\n",
        "  print(\"thread running\")\n",
        "\n",
        "thread=threading.Thread(target=task)\n",
        "thread.start()\n",
        "\n",
        "thread.join()"
      ]
    },
    {
      "cell_type": "code",
      "source": [
        "import threading\n",
        "def task1():\n",
        "  print(\"Task 1\")\n",
        "\n",
        "def task2():\n",
        "  print(\"Task 2\")\n",
        "\n",
        "t1 = threading.Thread(target=task1)\n",
        "t2 = threading.Thread(target=task2)\n",
        "\n",
        "t1.start()\n",
        "t2.start()\n",
        "\n",
        "t1.join()\n",
        "t2.join()"
      ],
      "metadata": {
        "colab": {
          "base_uri": "https://localhost:8080/"
        },
        "id": "hMQRISRzHZ1R",
        "outputId": "9a31871a-9cf9-4c97-d2d0-5fd2df9287eb"
      },
      "execution_count": null,
      "outputs": [
        {
          "output_type": "stream",
          "name": "stdout",
          "text": [
            "Task 1\n",
            "Task 2\n"
          ]
        }
      ]
    },
    {
      "cell_type": "code",
      "source": [
        "import threading\n",
        "def print_numbers():\n",
        "  for i in range(5):\n",
        "    print(i)\n",
        "\n",
        "thread = threading.Thread(target=print_numbers)\n",
        "thread.start()\n",
        "thread.join()\n"
      ],
      "metadata": {
        "colab": {
          "base_uri": "https://localhost:8080/"
        },
        "id": "apOYidrBJdBR",
        "outputId": "2ada281e-8491-4752-adc5-6d6f191a78b7"
      },
      "execution_count": null,
      "outputs": [
        {
          "output_type": "stream",
          "name": "stdout",
          "text": [
            "0\n",
            "1\n",
            "2\n",
            "3\n",
            "4\n"
          ]
        }
      ]
    },
    {
      "cell_type": "code",
      "source": [
        "import threading\n",
        "import time\n",
        "\n",
        "def download_file(file):\n",
        "  print(f\"downloading{file}...\")\n",
        "\n",
        "  time.sleep(2)\n",
        "  print(f\"{file}downloaded.\")\n",
        "\n",
        "file=[\"file1.txt\",\"file2.txt\",\"file3.txt\"]\n",
        "threads=[threading.Thread(target=download_file,args=(f,)) for f in file]\n",
        "\n",
        "for t in threads:\n",
        "  t.start()\n",
        "\n",
        "for t in threads:\n",
        "  t.join()\n"
      ],
      "metadata": {
        "colab": {
          "base_uri": "https://localhost:8080/"
        },
        "id": "SsDwie5_Kn5Z",
        "outputId": "cb708334-f121-4299-eb31-8c4abe2fe8c6"
      },
      "execution_count": null,
      "outputs": [
        {
          "output_type": "stream",
          "name": "stdout",
          "text": [
            "downloadingfile1.txt...\n",
            "downloadingfile2.txt...\n",
            "downloadingfile3.txt...\n",
            "file1.txtdownloaded.\n",
            "file2.txtdownloaded.\n",
            "file3.txtdownloaded.\n"
          ]
        }
      ]
    },
    {
      "cell_type": "markdown",
      "source": [
        "# Using threads with Argument"
      ],
      "metadata": {
        "id": "k_UoVdQGPdSo"
      }
    },
    {
      "cell_type": "code",
      "source": [
        "from os import name\n",
        "import threading\n",
        "def greet(name):\n",
        "  print(f\"hello ,{name}!\")\n",
        "\n",
        "thread=threading.Thread(target=greet,args=(\"Alice\",))\n",
        "thread.start()\n",
        "thread.join()"
      ],
      "metadata": {
        "colab": {
          "base_uri": "https://localhost:8080/"
        },
        "id": "WIxoqtguOOeg",
        "outputId": "eb162cd4-d4ac-4002-d500-761d6a9e9503"
      },
      "execution_count": null,
      "outputs": [
        {
          "output_type": "stream",
          "name": "stdout",
          "text": [
            "hello ,Alice!\n"
          ]
        }
      ]
    },
    {
      "cell_type": "code",
      "source": [
        "import threading\n",
        "import time\n",
        "def chef_work():\n",
        "  for i in range (5):\n",
        "    print(f\"chef : preapading dish {i + 1}\")\n",
        "    time.sleep(2)\n",
        "    if i ==2:\n",
        "      print(\"chef: callimg assistant to wash utensils\")\n",
        "      time.sleep(1)\n",
        "      assistant_thread=threading.Thread(target=assistant_work)\n",
        "      assistant_thread.start()\n",
        "      assistant_thread.join()\n",
        "      print(\"chef: assistant done. resuming dish preparation\")\n",
        "    print(\"chef: all dishes are prepared.\")\n",
        "def assistant_work():\n",
        "  for j in range(3):\n",
        "    print(f\"assistant :washing utensil {j + 1}\")\n",
        "    time.sleep(2)\n",
        "  print(\"assistant : all untensils are clean .\")\n",
        "print(\"kitchen: starting work.\")\n",
        "chef_thread=threading.Thread(target=chef_work)\n",
        "chef_thread.start()\n",
        "chef_thread.join()\n",
        "print(\"kitchen: all work completed.\")"
      ],
      "metadata": {
        "colab": {
          "base_uri": "https://localhost:8080/"
        },
        "id": "2Mi6kGXFQW5H",
        "outputId": "b4ec50d7-3907-4526-83b0-a59fa98c0f0c"
      },
      "execution_count": null,
      "outputs": [
        {
          "output_type": "stream",
          "name": "stdout",
          "text": [
            "kitchen: starting work.\n",
            "chef : preapading dish 1\n",
            "chef: all dishes are prepared.\n",
            "chef : preapading dish 2\n",
            "chef: all dishes are prepared.\n",
            "chef : preapading dish 3\n",
            "chef: callimg assistant to wash utensils\n",
            "assistant :washing utensil 1\n",
            "assistant :washing utensil 2\n",
            "assistant :washing utensil 3\n",
            "assistant : all untensils are clean .\n",
            "chef: assistant done. resuming dish preparation\n",
            "chef: all dishes are prepared.\n",
            "chef : preapading dish 4\n",
            "chef: all dishes are prepared.\n",
            "chef : preapading dish 5\n",
            "chef: all dishes are prepared.\n",
            "kitchen: all work completed.\n"
          ]
        }
      ]
    },
    {
      "cell_type": "markdown",
      "source": [
        "Write a Python program using threading to simulate music playback and lyrics downloading:\n",
        "\n",
        "Music playback runs in one thread for 5 seconds, printing a message each second.\n",
        "During the 3rd second, a separate thread starts to simulate downloading lyrics, which takes 3 seconds.\n",
        "Ensure the music playback waits for the lyrics to finish downloading before continuing."
      ],
      "metadata": {
        "id": "UQduay6pZ2xR"
      }
    },
    {
      "cell_type": "code",
      "source": [
        "import threading\n",
        "import time\n",
        "\n",
        "def music_player():\n",
        "  for i in range(5):\n",
        "    print(f\"music_player: starting music {i + 1}\")\n",
        "    time.sleep(1)\n",
        "    if i==2:\n",
        "      print(\"music_player: downloading lyrics in misic. \")\n",
        "      time.sleep(2)\n",
        "      download_thread=threading.Thread(target=download_lyrics)\n",
        "      download_thread.start()\n",
        "      download_thread.join()\n",
        "      print(f\"music_player: playback ended\")\n",
        "\n",
        "def download_lyrics():\n",
        "  for j in range (3):\n",
        "    print(f\"download lyrics {j+1}\")\n",
        "    time.sleep(2)\n",
        "music_player()\n",
        "\n",
        "\n",
        "\n",
        "\n",
        "\n",
        "\n",
        "\n"
      ],
      "metadata": {
        "colab": {
          "base_uri": "https://localhost:8080/"
        },
        "id": "7H30adU5X5SX",
        "outputId": "1c98c79f-a235-4086-a4ec-fd8612c4c4c2"
      },
      "execution_count": null,
      "outputs": [
        {
          "output_type": "stream",
          "name": "stdout",
          "text": [
            "music_player: starting music 1\n",
            "music_player: starting music 2\n",
            "music_player: starting music 3\n",
            "music_player: downloading lyrics in misic. \n",
            "download lyrics 1\n",
            "download lyrics 2\n",
            "download lyrics 3\n",
            "music_player: playback ended\n",
            "music_player: starting music 4\n",
            "music_player: starting music 5\n"
          ]
        }
      ]
    },
    {
      "cell_type": "markdown",
      "source": [
        "# Multi threading\n",
        "Multi threading is a way of achiving multitasking .in multithreading is a way of achiving multitasking.the concept of threads is used. Let us first understand the concept of thread in computer architecture."
      ],
      "metadata": {
        "id": "gZjqyYD4kI2o"
      }
    },
    {
      "cell_type": "code",
      "source": [
        "def odd_number():\n",
        "  for i in range(1,20,2):\n",
        "    print(\"ODD :\",i)\n",
        "def even_number():\n",
        "  for i in range(0,20,2):\n",
        "    print(\"EVEN :\",i)\n",
        "import threading\n",
        "tread_odd = threading.Thread(target=odd_number)\n",
        "tread_even = threading.Thread(target=even_number)\n",
        "tread_odd.start()\n",
        "tread_even.start()\n",
        "tread_odd.join()\n",
        "tread_even.join()"
      ],
      "metadata": {
        "colab": {
          "base_uri": "https://localhost:8080/"
        },
        "id": "ZpMcI8FjgcsY",
        "outputId": "e83989a3-6545-4cfc-f79d-7f48efc98f76"
      },
      "execution_count": null,
      "outputs": [
        {
          "output_type": "stream",
          "name": "stdout",
          "text": [
            "ODD : 1\n",
            "ODD : 3\n",
            "ODD : 5\n",
            "ODD : 7\n",
            "ODD : 9\n",
            "ODD : 11\n",
            "ODD : 13\n",
            "ODD : 15\n",
            "ODD : 17\n",
            "ODD : 19\n",
            "EVEN : 0\n",
            "EVEN : 2\n",
            "EVEN : 4\n",
            "EVEN : 6\n",
            "EVEN : 8\n",
            "EVEN : 10\n",
            "EVEN : 12\n",
            "EVEN : 14\n",
            "EVEN : 16\n",
            "EVEN : 18\n"
          ]
        }
      ]
    },
    {
      "cell_type": "markdown",
      "source": [
        "Problem: Create two threads: one to print even numbers and another to print odd numbers within a specified range.\n",
        "\n"
      ],
      "metadata": {
        "id": "odwolGtxn0s3"
      }
    },
    {
      "cell_type": "code",
      "source": [
        "import threading\n",
        "\n",
        "def odd_number():\n",
        "  for i in range(1,30,2):\n",
        "    print(f\"odd:{i}\")\n",
        "\n",
        "def even_number():\n",
        "  for i in range(0,30,2):\n",
        "    print(f\"even:{i}\")\n",
        "thread_odd=threading.Thread(target=odd_number)\n",
        "thread_even=threading.Thread(target=even_number)\n",
        "thread_odd.start()\n",
        "thread_even.start()\n",
        "thread_even.join()\n",
        "thread_odd.join()"
      ],
      "metadata": {
        "id": "0EeVwaSmn2_G",
        "colab": {
          "base_uri": "https://localhost:8080/"
        },
        "outputId": "e95db414-ff30-4154-cdcf-492a3be328f9"
      },
      "execution_count": null,
      "outputs": [
        {
          "output_type": "stream",
          "name": "stdout",
          "text": [
            "odd:1even:0\n",
            "even:2\n",
            "even:4\n",
            "even:6\n",
            "even:8\n",
            "even:10\n",
            "even:12\n",
            "even:14\n",
            "even:16\n",
            "even:18\n",
            "even:20\n",
            "even:22\n",
            "even:24\n",
            "even:26\n",
            "even:28\n",
            "\n",
            "odd:3\n",
            "odd:5\n",
            "odd:7\n",
            "odd:9\n",
            "odd:11\n",
            "odd:13\n",
            "odd:15\n",
            "odd:17\n",
            "odd:19\n",
            "odd:21\n",
            "odd:23\n",
            "odd:25\n",
            "odd:27\n",
            "odd:29\n"
          ]
        }
      ]
    },
    {
      "cell_type": "markdown",
      "source": [
        "# Questions\n",
        "1. Write a Python program using threading that prints \"Hello\" and \"World\" from two different threads concurrently.\n",
        "2. Write a program that creates a thread to simulate a countdown timer (from 10 to 1), printing one number per second.\n",
        "3. Create a program that starts 3 threads, each printing its thread name and sleeping for a random time between 1–3 seconds.\n",
        "4. Write a program that demonstrates the use of join() by starting two threads and waiting for both to finish before printing “All Done.”\n",
        "5. Write a multithreaded program where one thread adds to a shared counter, and another subtracts from it. Use Lock to prevent race conditions.\n",
        "6. Implement a program where one thread prints numbers and another prints letters (A-Z). They should run in parallel.\n",
        "7. Create a threaded class by subclassing threading.Thread and use it to simulate downloading files (just print “Downloading file X…”).\n",
        "8. Write a program that creates 5 threads and each thread prints a message 5 times.\n",
        "9. Demonstrate a deadlock scenario using two Locks and two threads, then fix it using try...finally or timeout.\n"
      ],
      "metadata": {
        "id": "tlalnFBquicL"
      }
    },
    {
      "cell_type": "code",
      "source": [
        "import threading\n",
        "\n",
        "def print_hello():\n",
        "    print(\"Hello\")\n",
        "def print_world():\n",
        "    print(\"World\")\n",
        "thread1 = threading.Thread(target=print_hello)\n",
        "thread2 = threading.Thread(target=print_world)\n",
        "thread1.start()\n",
        "thread2.start()\n",
        "thread1.join()\n",
        "thread2.join()\n"
      ],
      "metadata": {
        "id": "aj3mnjStqnlL",
        "colab": {
          "base_uri": "https://localhost:8080/"
        },
        "outputId": "debfb7b0-8583-4fab-e3cb-ceebd8fbb207"
      },
      "execution_count": null,
      "outputs": [
        {
          "output_type": "stream",
          "name": "stdout",
          "text": [
            "Hello\n",
            "World\n"
          ]
        }
      ]
    },
    {
      "cell_type": "code",
      "source": [
        "import threading\n",
        "import time\n",
        "def countdown():\n",
        "    for i in range(10, 0, -1):\n",
        "        print(i)\n",
        "        time.sleep(1)\n",
        "    print(\"Countdown complete!\")\n",
        "timer_thread = threading.Thread(target=countdown)\n",
        "timer_thread.start()\n",
        "timer_thread.join()"
      ],
      "metadata": {
        "colab": {
          "base_uri": "https://localhost:8080/"
        },
        "id": "SzahdOlp8BwK",
        "outputId": "95bfd88a-bf96-421e-8968-4134c116e49b"
      },
      "execution_count": null,
      "outputs": [
        {
          "output_type": "stream",
          "name": "stdout",
          "text": [
            "10\n",
            "9\n",
            "8\n",
            "7\n",
            "6\n",
            "5\n",
            "4\n",
            "3\n",
            "2\n",
            "1\n",
            "Countdown complete!\n"
          ]
        }
      ]
    },
    {
      "cell_type": "code",
      "source": [],
      "metadata": {
        "id": "FVjR3pv48vt3"
      },
      "execution_count": null,
      "outputs": []
    }
  ]
}